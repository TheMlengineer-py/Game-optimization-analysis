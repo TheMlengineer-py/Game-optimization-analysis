{
 "cells": [
  {
   "cell_type": "markdown",
   "id": "c5e2f521",
   "metadata": {},
   "source": [
    "# Exploratory data analysis of players dataset"
   ]
  },
  {
   "cell_type": "code",
   "execution_count": 1,
   "id": "26da2faa",
   "metadata": {},
   "outputs": [
    {
     "data": {
      "text/html": [
       "<div>\n",
       "<style scoped>\n",
       "    .dataframe tbody tr th:only-of-type {\n",
       "        vertical-align: middle;\n",
       "    }\n",
       "\n",
       "    .dataframe tbody tr th {\n",
       "        vertical-align: top;\n",
       "    }\n",
       "\n",
       "    .dataframe thead th {\n",
       "        text-align: right;\n",
       "    }\n",
       "</style>\n",
       "<table border=\"1\" class=\"dataframe\">\n",
       "  <thead>\n",
       "    <tr style=\"text-align: right;\">\n",
       "      <th></th>\n",
       "      <th>install_datetime</th>\n",
       "      <th>player_id</th>\n",
       "      <th>platform</th>\n",
       "      <th>country</th>\n",
       "      <th>screen_size</th>\n",
       "      <th>system_memory</th>\n",
       "    </tr>\n",
       "  </thead>\n",
       "  <tbody>\n",
       "    <tr>\n",
       "      <th>0</th>\n",
       "      <td>2020-11-27 20:07:26.395000</td>\n",
       "      <td>00001bc5552cd394a4b25b2ceb4ae7cd</td>\n",
       "      <td>ios</td>\n",
       "      <td>US</td>\n",
       "      <td>9.696970</td>\n",
       "      <td>2914</td>\n",
       "    </tr>\n",
       "    <tr>\n",
       "      <th>1</th>\n",
       "      <td>2020-11-18 17:48:03.901000</td>\n",
       "      <td>000026e096ee1c36cb88234a4dcbb42e</td>\n",
       "      <td>ios</td>\n",
       "      <td>US</td>\n",
       "      <td>6.055348</td>\n",
       "      <td>2831</td>\n",
       "    </tr>\n",
       "    <tr>\n",
       "      <th>2</th>\n",
       "      <td>2020-11-23 17:38:01.931000</td>\n",
       "      <td>00002843536d8cee37cf7b42090fb4bf</td>\n",
       "      <td>ios</td>\n",
       "      <td>AU</td>\n",
       "      <td>4.694410</td>\n",
       "      <td>2002</td>\n",
       "    </tr>\n",
       "    <tr>\n",
       "      <th>3</th>\n",
       "      <td>2020-11-25 20:34:06.745000</td>\n",
       "      <td>00002e5fbc4dfc71000ade73574765be</td>\n",
       "      <td>ios</td>\n",
       "      <td>US</td>\n",
       "      <td>5.493534</td>\n",
       "      <td>2973</td>\n",
       "    </tr>\n",
       "    <tr>\n",
       "      <th>4</th>\n",
       "      <td>2020-12-03 14:46:53.501000</td>\n",
       "      <td>000037b512bb3b8618280d112aeb96af</td>\n",
       "      <td>ios</td>\n",
       "      <td>US</td>\n",
       "      <td>6.465209</td>\n",
       "      <td>3758</td>\n",
       "    </tr>\n",
       "    <tr>\n",
       "      <th>...</th>\n",
       "      <td>...</td>\n",
       "      <td>...</td>\n",
       "      <td>...</td>\n",
       "      <td>...</td>\n",
       "      <td>...</td>\n",
       "      <td>...</td>\n",
       "    </tr>\n",
       "    <tr>\n",
       "      <th>4995</th>\n",
       "      <td>2020-12-03 21:01:19.873000</td>\n",
       "      <td>00b3c8e284838dd18dce8cfbc6317b49</td>\n",
       "      <td>ios</td>\n",
       "      <td>GB</td>\n",
       "      <td>9.696970</td>\n",
       "      <td>1977</td>\n",
       "    </tr>\n",
       "    <tr>\n",
       "      <th>4996</th>\n",
       "      <td>2020-11-22 11:44:24.904000</td>\n",
       "      <td>00b3d119725b90ae228fd985b81f9be8</td>\n",
       "      <td>android</td>\n",
       "      <td>CA</td>\n",
       "      <td>4.571787</td>\n",
       "      <td>3581</td>\n",
       "    </tr>\n",
       "    <tr>\n",
       "      <th>4997</th>\n",
       "      <td>2020-11-23 14:57:42.176000</td>\n",
       "      <td>00b3dc45403fb55f068085e7c733f0d9</td>\n",
       "      <td>android</td>\n",
       "      <td>AU</td>\n",
       "      <td>5.926231</td>\n",
       "      <td>1815</td>\n",
       "    </tr>\n",
       "    <tr>\n",
       "      <th>4998</th>\n",
       "      <td>2020-11-23 18:30:59.432000</td>\n",
       "      <td>00b3dc45403fb55f068085e7c733f0d9</td>\n",
       "      <td>android</td>\n",
       "      <td>AU</td>\n",
       "      <td>5.926231</td>\n",
       "      <td>1815</td>\n",
       "    </tr>\n",
       "    <tr>\n",
       "      <th>4999</th>\n",
       "      <td>2020-11-21 19:39:44.239000</td>\n",
       "      <td>00b3e42f0aa8d3e4d40f6d2817bd6615</td>\n",
       "      <td>ios</td>\n",
       "      <td>US</td>\n",
       "      <td>4.694410</td>\n",
       "      <td>2965</td>\n",
       "    </tr>\n",
       "  </tbody>\n",
       "</table>\n",
       "<p>5000 rows × 6 columns</p>\n",
       "</div>"
      ],
      "text/plain": [
       "                install_datetime                         player_id platform  \\\n",
       "0     2020-11-27 20:07:26.395000  00001bc5552cd394a4b25b2ceb4ae7cd      ios   \n",
       "1     2020-11-18 17:48:03.901000  000026e096ee1c36cb88234a4dcbb42e      ios   \n",
       "2     2020-11-23 17:38:01.931000  00002843536d8cee37cf7b42090fb4bf      ios   \n",
       "3     2020-11-25 20:34:06.745000  00002e5fbc4dfc71000ade73574765be      ios   \n",
       "4     2020-12-03 14:46:53.501000  000037b512bb3b8618280d112aeb96af      ios   \n",
       "...                          ...                               ...      ...   \n",
       "4995  2020-12-03 21:01:19.873000  00b3c8e284838dd18dce8cfbc6317b49      ios   \n",
       "4996  2020-11-22 11:44:24.904000  00b3d119725b90ae228fd985b81f9be8  android   \n",
       "4997  2020-11-23 14:57:42.176000  00b3dc45403fb55f068085e7c733f0d9  android   \n",
       "4998  2020-11-23 18:30:59.432000  00b3dc45403fb55f068085e7c733f0d9  android   \n",
       "4999  2020-11-21 19:39:44.239000  00b3e42f0aa8d3e4d40f6d2817bd6615      ios   \n",
       "\n",
       "     country  screen_size  system_memory  \n",
       "0         US     9.696970           2914  \n",
       "1         US     6.055348           2831  \n",
       "2         AU     4.694410           2002  \n",
       "3         US     5.493534           2973  \n",
       "4         US     6.465209           3758  \n",
       "...      ...          ...            ...  \n",
       "4995      GB     9.696970           1977  \n",
       "4996      CA     4.571787           3581  \n",
       "4997      AU     5.926231           1815  \n",
       "4998      AU     5.926231           1815  \n",
       "4999      US     4.694410           2965  \n",
       "\n",
       "[5000 rows x 6 columns]"
      ]
     },
     "execution_count": 1,
     "metadata": {},
     "output_type": "execute_result"
    }
   ],
   "source": [
    "#Loading dataset\n",
    "#Read CSV File\n",
    "#import libraries\n",
    "import numpy as np\n",
    "import seaborn as sns\n",
    "import matplotlib.pyplot as plt#loading dataset\n",
    "import pandas as pd\n",
    "df=pd.read_csv('players.csv')\n",
    "players=df\n",
    "players"
   ]
  },
  {
   "cell_type": "code",
   "execution_count": 2,
   "id": "07e0277d",
   "metadata": {},
   "outputs": [
    {
     "name": "stdout",
     "output_type": "stream",
     "text": [
      "<class 'pandas.core.frame.DataFrame'>\n",
      "RangeIndex: 5000 entries, 0 to 4999\n",
      "Data columns (total 6 columns):\n",
      " #   Column            Non-Null Count  Dtype  \n",
      "---  ------            --------------  -----  \n",
      " 0   install_datetime  5000 non-null   object \n",
      " 1   player_id         5000 non-null   object \n",
      " 2   platform          5000 non-null   object \n",
      " 3   country           5000 non-null   object \n",
      " 4   screen_size       5000 non-null   float64\n",
      " 5   system_memory     5000 non-null   int64  \n",
      "dtypes: float64(1), int64(1), object(4)\n",
      "memory usage: 234.5+ KB\n"
     ]
    }
   ],
   "source": [
    "#printing information about the dataset\n",
    "players.info()"
   ]
  },
  {
   "cell_type": "code",
   "execution_count": 3,
   "id": "38a58b13",
   "metadata": {},
   "outputs": [
    {
     "data": {
      "text/html": [
       "<div>\n",
       "<style scoped>\n",
       "    .dataframe tbody tr th:only-of-type {\n",
       "        vertical-align: middle;\n",
       "    }\n",
       "\n",
       "    .dataframe tbody tr th {\n",
       "        vertical-align: top;\n",
       "    }\n",
       "\n",
       "    .dataframe thead th {\n",
       "        text-align: right;\n",
       "    }\n",
       "</style>\n",
       "<table border=\"1\" class=\"dataframe\">\n",
       "  <thead>\n",
       "    <tr style=\"text-align: right;\">\n",
       "      <th></th>\n",
       "      <th>screen_size</th>\n",
       "      <th>system_memory</th>\n",
       "    </tr>\n",
       "  </thead>\n",
       "  <tbody>\n",
       "    <tr>\n",
       "      <th>count</th>\n",
       "      <td>5000.000000</td>\n",
       "      <td>5000.000000</td>\n",
       "    </tr>\n",
       "    <tr>\n",
       "      <th>mean</th>\n",
       "      <td>5.998411</td>\n",
       "      <td>3131.348400</td>\n",
       "    </tr>\n",
       "    <tr>\n",
       "      <th>std</th>\n",
       "      <td>1.551791</td>\n",
       "      <td>1615.828459</td>\n",
       "    </tr>\n",
       "    <tr>\n",
       "      <th>min</th>\n",
       "      <td>3.887301</td>\n",
       "      <td>856.000000</td>\n",
       "    </tr>\n",
       "    <tr>\n",
       "      <th>25%</th>\n",
       "      <td>4.694410</td>\n",
       "      <td>2001.000000</td>\n",
       "    </tr>\n",
       "    <tr>\n",
       "      <th>50%</th>\n",
       "      <td>5.766932</td>\n",
       "      <td>2845.000000</td>\n",
       "    </tr>\n",
       "    <tr>\n",
       "      <th>75%</th>\n",
       "      <td>6.055348</td>\n",
       "      <td>3741.000000</td>\n",
       "    </tr>\n",
       "    <tr>\n",
       "      <th>max</th>\n",
       "      <td>13.768170</td>\n",
       "      <td>11562.000000</td>\n",
       "    </tr>\n",
       "  </tbody>\n",
       "</table>\n",
       "</div>"
      ],
      "text/plain": [
       "       screen_size  system_memory\n",
       "count  5000.000000    5000.000000\n",
       "mean      5.998411    3131.348400\n",
       "std       1.551791    1615.828459\n",
       "min       3.887301     856.000000\n",
       "25%       4.694410    2001.000000\n",
       "50%       5.766932    2845.000000\n",
       "75%       6.055348    3741.000000\n",
       "max      13.768170   11562.000000"
      ]
     },
     "execution_count": 3,
     "metadata": {},
     "output_type": "execute_result"
    }
   ],
   "source": [
    "#statistical summary of the dataset\n",
    "players.describe()"
   ]
  },
  {
   "cell_type": "code",
   "execution_count": 4,
   "id": "b2262ce2",
   "metadata": {},
   "outputs": [
    {
     "data": {
      "text/plain": [
       "['install_datetime', 'player_id', 'platform', 'country']"
      ]
     },
     "execution_count": 4,
     "metadata": {},
     "output_type": "execute_result"
    }
   ],
   "source": [
    "#Finding columns with Categorical Values\n",
    "players.select_dtypes(exclude=['int','float']).columns.tolist()"
   ]
  },
  {
   "cell_type": "code",
   "execution_count": 5,
   "id": "4f87683d",
   "metadata": {},
   "outputs": [
    {
     "data": {
      "text/plain": [
       "['screen_size', 'system_memory']"
      ]
     },
     "execution_count": 5,
     "metadata": {},
     "output_type": "execute_result"
    }
   ],
   "source": [
    "#Finding columns with Numerical Values\n",
    "players.select_dtypes(include=['int','float']).columns.tolist()"
   ]
  },
  {
   "cell_type": "code",
   "execution_count": 6,
   "id": "4b088f6d",
   "metadata": {},
   "outputs": [
    {
     "name": "stdout",
     "output_type": "stream",
     "text": [
      "(5000, 6)\n"
     ]
    }
   ],
   "source": [
    "#shape of the dataset\n",
    "print(players.shape)"
   ]
  },
  {
   "cell_type": "code",
   "execution_count": 7,
   "id": "40caf639",
   "metadata": {},
   "outputs": [
    {
     "data": {
      "text/html": [
       "<div>\n",
       "<style scoped>\n",
       "    .dataframe tbody tr th:only-of-type {\n",
       "        vertical-align: middle;\n",
       "    }\n",
       "\n",
       "    .dataframe tbody tr th {\n",
       "        vertical-align: top;\n",
       "    }\n",
       "\n",
       "    .dataframe thead th {\n",
       "        text-align: right;\n",
       "    }\n",
       "</style>\n",
       "<table border=\"1\" class=\"dataframe\">\n",
       "  <thead>\n",
       "    <tr style=\"text-align: right;\">\n",
       "      <th></th>\n",
       "      <th>install_datetime</th>\n",
       "      <th>player_id</th>\n",
       "      <th>platform</th>\n",
       "      <th>country</th>\n",
       "      <th>screen_size</th>\n",
       "      <th>system_memory</th>\n",
       "    </tr>\n",
       "  </thead>\n",
       "  <tbody>\n",
       "    <tr>\n",
       "      <th>0</th>\n",
       "      <td>2020-11-27 20:07:26.395000</td>\n",
       "      <td>00001bc5552cd394a4b25b2ceb4ae7cd</td>\n",
       "      <td>ios</td>\n",
       "      <td>US</td>\n",
       "      <td>9.696970</td>\n",
       "      <td>2914</td>\n",
       "    </tr>\n",
       "    <tr>\n",
       "      <th>1</th>\n",
       "      <td>2020-11-18 17:48:03.901000</td>\n",
       "      <td>000026e096ee1c36cb88234a4dcbb42e</td>\n",
       "      <td>ios</td>\n",
       "      <td>US</td>\n",
       "      <td>6.055348</td>\n",
       "      <td>2831</td>\n",
       "    </tr>\n",
       "    <tr>\n",
       "      <th>2</th>\n",
       "      <td>2020-11-23 17:38:01.931000</td>\n",
       "      <td>00002843536d8cee37cf7b42090fb4bf</td>\n",
       "      <td>ios</td>\n",
       "      <td>AU</td>\n",
       "      <td>4.694410</td>\n",
       "      <td>2002</td>\n",
       "    </tr>\n",
       "    <tr>\n",
       "      <th>3</th>\n",
       "      <td>2020-11-25 20:34:06.745000</td>\n",
       "      <td>00002e5fbc4dfc71000ade73574765be</td>\n",
       "      <td>ios</td>\n",
       "      <td>US</td>\n",
       "      <td>5.493534</td>\n",
       "      <td>2973</td>\n",
       "    </tr>\n",
       "    <tr>\n",
       "      <th>4</th>\n",
       "      <td>2020-12-03 14:46:53.501000</td>\n",
       "      <td>000037b512bb3b8618280d112aeb96af</td>\n",
       "      <td>ios</td>\n",
       "      <td>US</td>\n",
       "      <td>6.465209</td>\n",
       "      <td>3758</td>\n",
       "    </tr>\n",
       "    <tr>\n",
       "      <th>5</th>\n",
       "      <td>2020-11-28 08:59:28.167000</td>\n",
       "      <td>00003d7127ec0d84613dde955783dd37</td>\n",
       "      <td>android</td>\n",
       "      <td>US</td>\n",
       "      <td>5.031153</td>\n",
       "      <td>1830</td>\n",
       "    </tr>\n",
       "    <tr>\n",
       "      <th>6</th>\n",
       "      <td>2020-11-18 10:02:06.089000</td>\n",
       "      <td>00004843b0b60af1e0851a8d11139892</td>\n",
       "      <td>android</td>\n",
       "      <td>AU</td>\n",
       "      <td>5.878012</td>\n",
       "      <td>3679</td>\n",
       "    </tr>\n",
       "    <tr>\n",
       "      <th>7</th>\n",
       "      <td>2020-12-05 16:04:59.787000</td>\n",
       "      <td>00005c346c97d1a223ec6f6edd321fcf</td>\n",
       "      <td>android</td>\n",
       "      <td>GB</td>\n",
       "      <td>9.433981</td>\n",
       "      <td>1778</td>\n",
       "    </tr>\n",
       "    <tr>\n",
       "      <th>8</th>\n",
       "      <td>2020-11-24 21:23:21.723000</td>\n",
       "      <td>00006711a7126708394f8fb279d5b150</td>\n",
       "      <td>android</td>\n",
       "      <td>US</td>\n",
       "      <td>6.175148</td>\n",
       "      <td>2794</td>\n",
       "    </tr>\n",
       "    <tr>\n",
       "      <th>9</th>\n",
       "      <td>2020-11-18 14:15:17.507000</td>\n",
       "      <td>000078643b16b05d2b1be24450c7143a</td>\n",
       "      <td>ios</td>\n",
       "      <td>US</td>\n",
       "      <td>4.694410</td>\n",
       "      <td>2002</td>\n",
       "    </tr>\n",
       "    <tr>\n",
       "      <th>10</th>\n",
       "      <td>2020-11-27 21:48:18.414000</td>\n",
       "      <td>0000825bdb1c907dfa0d2658cf966964</td>\n",
       "      <td>android</td>\n",
       "      <td>US</td>\n",
       "      <td>4.589390</td>\n",
       "      <td>1355</td>\n",
       "    </tr>\n",
       "    <tr>\n",
       "      <th>11</th>\n",
       "      <td>2020-11-27 17:41:37.863000</td>\n",
       "      <td>0000a5ea0d500d65d40140b19e57dcd7</td>\n",
       "      <td>ios</td>\n",
       "      <td>US</td>\n",
       "      <td>6.055348</td>\n",
       "      <td>2831</td>\n",
       "    </tr>\n",
       "    <tr>\n",
       "      <th>12</th>\n",
       "      <td>2020-11-18 14:14:45.338000</td>\n",
       "      <td>0000a91cd0f85304db309d0255073948</td>\n",
       "      <td>ios</td>\n",
       "      <td>US</td>\n",
       "      <td>6.055348</td>\n",
       "      <td>3859</td>\n",
       "    </tr>\n",
       "    <tr>\n",
       "      <th>13</th>\n",
       "      <td>2020-11-21 23:27:46.938000</td>\n",
       "      <td>0000c1e813022018898042253db7bf7c</td>\n",
       "      <td>ios</td>\n",
       "      <td>US</td>\n",
       "      <td>4.694410</td>\n",
       "      <td>2010</td>\n",
       "    </tr>\n",
       "    <tr>\n",
       "      <th>14</th>\n",
       "      <td>2020-12-06 12:02:49.795000</td>\n",
       "      <td>0000c27804855fbce31df18107ea8c08</td>\n",
       "      <td>ios</td>\n",
       "      <td>US</td>\n",
       "      <td>7.852761</td>\n",
       "      <td>1988</td>\n",
       "    </tr>\n",
       "    <tr>\n",
       "      <th>15</th>\n",
       "      <td>2020-12-03 16:22:10.550000</td>\n",
       "      <td>0000f7675c2fb1cd709ec6a866de6028</td>\n",
       "      <td>android</td>\n",
       "      <td>US</td>\n",
       "      <td>7.086559</td>\n",
       "      <td>1849</td>\n",
       "    </tr>\n",
       "    <tr>\n",
       "      <th>16</th>\n",
       "      <td>2020-12-05 15:27:56.099000</td>\n",
       "      <td>0000fc1918310421413aa1f5bb785ceb</td>\n",
       "      <td>ios</td>\n",
       "      <td>US</td>\n",
       "      <td>9.696970</td>\n",
       "      <td>1977</td>\n",
       "    </tr>\n",
       "    <tr>\n",
       "      <th>17</th>\n",
       "      <td>2020-11-18 18:41:29.311000</td>\n",
       "      <td>0000fcbb8120f7d50406bd2aebf71a60</td>\n",
       "      <td>ios</td>\n",
       "      <td>GB</td>\n",
       "      <td>4.694410</td>\n",
       "      <td>1974</td>\n",
       "    </tr>\n",
       "    <tr>\n",
       "      <th>18</th>\n",
       "      <td>2020-11-20 11:35:09.492000</td>\n",
       "      <td>00010144f59f543a985686eba17450b5</td>\n",
       "      <td>ios</td>\n",
       "      <td>CA</td>\n",
       "      <td>7.852761</td>\n",
       "      <td>1988</td>\n",
       "    </tr>\n",
       "    <tr>\n",
       "      <th>19</th>\n",
       "      <td>2020-11-22 11:45:53.200000</td>\n",
       "      <td>00012b3281fe3bc8d3aaa27f279ceb50</td>\n",
       "      <td>android</td>\n",
       "      <td>US</td>\n",
       "      <td>5.225844</td>\n",
       "      <td>3609</td>\n",
       "    </tr>\n",
       "  </tbody>\n",
       "</table>\n",
       "</div>"
      ],
      "text/plain": [
       "              install_datetime                         player_id platform  \\\n",
       "0   2020-11-27 20:07:26.395000  00001bc5552cd394a4b25b2ceb4ae7cd      ios   \n",
       "1   2020-11-18 17:48:03.901000  000026e096ee1c36cb88234a4dcbb42e      ios   \n",
       "2   2020-11-23 17:38:01.931000  00002843536d8cee37cf7b42090fb4bf      ios   \n",
       "3   2020-11-25 20:34:06.745000  00002e5fbc4dfc71000ade73574765be      ios   \n",
       "4   2020-12-03 14:46:53.501000  000037b512bb3b8618280d112aeb96af      ios   \n",
       "5   2020-11-28 08:59:28.167000  00003d7127ec0d84613dde955783dd37  android   \n",
       "6   2020-11-18 10:02:06.089000  00004843b0b60af1e0851a8d11139892  android   \n",
       "7   2020-12-05 16:04:59.787000  00005c346c97d1a223ec6f6edd321fcf  android   \n",
       "8   2020-11-24 21:23:21.723000  00006711a7126708394f8fb279d5b150  android   \n",
       "9   2020-11-18 14:15:17.507000  000078643b16b05d2b1be24450c7143a      ios   \n",
       "10  2020-11-27 21:48:18.414000  0000825bdb1c907dfa0d2658cf966964  android   \n",
       "11  2020-11-27 17:41:37.863000  0000a5ea0d500d65d40140b19e57dcd7      ios   \n",
       "12  2020-11-18 14:14:45.338000  0000a91cd0f85304db309d0255073948      ios   \n",
       "13  2020-11-21 23:27:46.938000  0000c1e813022018898042253db7bf7c      ios   \n",
       "14  2020-12-06 12:02:49.795000  0000c27804855fbce31df18107ea8c08      ios   \n",
       "15  2020-12-03 16:22:10.550000  0000f7675c2fb1cd709ec6a866de6028  android   \n",
       "16  2020-12-05 15:27:56.099000  0000fc1918310421413aa1f5bb785ceb      ios   \n",
       "17  2020-11-18 18:41:29.311000  0000fcbb8120f7d50406bd2aebf71a60      ios   \n",
       "18  2020-11-20 11:35:09.492000  00010144f59f543a985686eba17450b5      ios   \n",
       "19  2020-11-22 11:45:53.200000  00012b3281fe3bc8d3aaa27f279ceb50  android   \n",
       "\n",
       "   country  screen_size  system_memory  \n",
       "0       US     9.696970           2914  \n",
       "1       US     6.055348           2831  \n",
       "2       AU     4.694410           2002  \n",
       "3       US     5.493534           2973  \n",
       "4       US     6.465209           3758  \n",
       "5       US     5.031153           1830  \n",
       "6       AU     5.878012           3679  \n",
       "7       GB     9.433981           1778  \n",
       "8       US     6.175148           2794  \n",
       "9       US     4.694410           2002  \n",
       "10      US     4.589390           1355  \n",
       "11      US     6.055348           2831  \n",
       "12      US     6.055348           3859  \n",
       "13      US     4.694410           2010  \n",
       "14      US     7.852761           1988  \n",
       "15      US     7.086559           1849  \n",
       "16      US     9.696970           1977  \n",
       "17      GB     4.694410           1974  \n",
       "18      CA     7.852761           1988  \n",
       "19      US     5.225844           3609  "
      ]
     },
     "execution_count": 7,
     "metadata": {},
     "output_type": "execute_result"
    }
   ],
   "source": [
    "#display first 20 rows\n",
    "players.head(20)"
   ]
  },
  {
   "cell_type": "code",
   "execution_count": 8,
   "id": "745982d2",
   "metadata": {},
   "outputs": [
    {
     "name": "stdout",
     "output_type": "stream",
     "text": [
      "install_datetime     object\n",
      "player_id            object\n",
      "platform             object\n",
      "country              object\n",
      "screen_size         float64\n",
      "system_memory         int64\n",
      "dtype: object\n"
     ]
    }
   ],
   "source": [
    "#data types\n",
    "print(players.dtypes)"
   ]
  },
  {
   "cell_type": "code",
   "execution_count": 9,
   "id": "538bccba",
   "metadata": {},
   "outputs": [
    {
     "data": {
      "text/plain": [
       "install_datetime    0\n",
       "player_id           0\n",
       "platform            0\n",
       "country             0\n",
       "screen_size         0\n",
       "system_memory       0\n",
       "dtype: int64"
      ]
     },
     "execution_count": 9,
     "metadata": {},
     "output_type": "execute_result"
    }
   ],
   "source": [
    "#missing value analysis\n",
    "#The following isnull function will figure out if there are any missing values in the dataframe, and will then sum up the total for each column.\n",
    "players.isnull().sum()"
   ]
  },
  {
   "cell_type": "code",
   "execution_count": 10,
   "id": "92cef184",
   "metadata": {},
   "outputs": [
    {
     "data": {
      "text/plain": [
       "Index(['install_datetime', 'player_id', 'platform', 'country', 'screen_size',\n",
       "       'system_memory'],\n",
       "      dtype='object')"
      ]
     },
     "execution_count": 10,
     "metadata": {},
     "output_type": "execute_result"
    }
   ],
   "source": [
    "#Features Exploration\n",
    "#showing all columns names\n",
    "players.columns"
   ]
  },
  {
   "cell_type": "code",
   "execution_count": 11,
   "id": "43f1444e",
   "metadata": {},
   "outputs": [
    {
     "name": "stdout",
     "output_type": "stream",
     "text": [
      "['install_datetime', 'player_id', 'platform', 'country', 'screen_size', 'system_memory']\n"
     ]
    }
   ],
   "source": [
    "#Convert column names to a list\n",
    "l=list(players.columns)\n",
    "print(l)"
   ]
  },
  {
   "cell_type": "code",
   "execution_count": 12,
   "id": "753ef7b8",
   "metadata": {},
   "outputs": [
    {
     "data": {
      "text/plain": [
       "array(['2020-11-27 20:07:26.395000', '2020-11-18 17:48:03.901000',\n",
       "       '2020-11-23 17:38:01.931000', ..., '2020-11-23 14:57:42.176000',\n",
       "       '2020-11-23 18:30:59.432000', '2020-11-21 19:39:44.239000'],\n",
       "      dtype=object)"
      ]
     },
     "execution_count": 12,
     "metadata": {},
     "output_type": "execute_result"
    }
   ],
   "source": [
    "#printing unique values\n",
    "players.install_datetime.unique()"
   ]
  },
  {
   "cell_type": "code",
   "execution_count": 13,
   "id": "b38301e4",
   "metadata": {},
   "outputs": [
    {
     "data": {
      "text/plain": [
       "array(['00001bc5552cd394a4b25b2ceb4ae7cd',\n",
       "       '000026e096ee1c36cb88234a4dcbb42e',\n",
       "       '00002843536d8cee37cf7b42090fb4bf', ...,\n",
       "       '00b3d119725b90ae228fd985b81f9be8',\n",
       "       '00b3dc45403fb55f068085e7c733f0d9',\n",
       "       '00b3e42f0aa8d3e4d40f6d2817bd6615'], dtype=object)"
      ]
     },
     "execution_count": 13,
     "metadata": {},
     "output_type": "execute_result"
    }
   ],
   "source": [
    "#printing unique values\n",
    "players.player_id.unique()"
   ]
  },
  {
   "cell_type": "code",
   "execution_count": 14,
   "id": "2ac40a04",
   "metadata": {},
   "outputs": [
    {
     "data": {
      "text/plain": [
       "array(['ios', 'android'], dtype=object)"
      ]
     },
     "execution_count": 14,
     "metadata": {},
     "output_type": "execute_result"
    }
   ],
   "source": [
    "#printing unique values\n",
    "players.platform.unique()"
   ]
  },
  {
   "cell_type": "code",
   "execution_count": 15,
   "id": "9cd91204",
   "metadata": {},
   "outputs": [
    {
     "data": {
      "text/plain": [
       "array(['US', 'AU', 'GB', 'CA'], dtype=object)"
      ]
     },
     "execution_count": 15,
     "metadata": {},
     "output_type": "execute_result"
    }
   ],
   "source": [
    "#printing unique values\n",
    "players.country.unique()"
   ]
  },
  {
   "cell_type": "code",
   "execution_count": 16,
   "id": "cf1d828a",
   "metadata": {},
   "outputs": [
    {
     "data": {
      "text/plain": [
       "array([ 9.69696999,  6.0553484 ,  4.69440985,  5.49353409,  6.46520853,\n",
       "        5.0311532 ,  5.8780117 ,  9.43398094,  6.17514753,  4.5893898 ,\n",
       "        7.85276079,  7.08655882,  5.22584391,  5.14326   ,  8.23076534,\n",
       "        3.99962378,  5.71348476,  5.76693249,  8.28220844,  5.96165037,\n",
       "        4.57178688,  5.41722155,  4.68639088,  5.95234394,  7.65604639,\n",
       "        8.32993126,  4.58939028,  5.08993435,  5.24501705,  8.38576126,\n",
       "        5.19390011,  5.48853016,  5.85857964,  5.30117893,  5.04606581,\n",
       "        5.83309078,  5.10675955, 10.22727299,  5.21644402,  6.06423998,\n",
       "        7.41771555,  5.77545786,  4.53684807, 10.530303  ,  6.05406237,\n",
       "        5.95807076,  5.32382631,  5.7498889 ,  6.23148298,  9.08302307,\n",
       "        6.04555845,  5.33515787,  5.77119493,  5.793396  ,  5.98421478,\n",
       "        6.00679874,  5.18826818,  5.02928972,  5.03674364,  6.0412488 ,\n",
       "        8.        ,  5.74988937,  5.82668018,  5.34460449,  4.8493042 ,\n",
       "        5.82454348,  5.42627335,  5.70091152,  5.61082935,  5.78825331,\n",
       "        6.46719027,  5.94017839,  5.48292828,  7.07548618,  5.22772408,\n",
       "        5.98529005,  5.19953394,  4.47213602,  5.92623138,  5.93588591,\n",
       "        6.15026379,  5.96487236,  5.12079096,  5.08713102,  5.24988079,\n",
       "        5.16387749,  6.09732294,  5.70973825,  5.66264105,  5.20830059,\n",
       "        5.26133633,  7.47016764,  5.87801123,  6.35514021,  5.81386423,\n",
       "        7.64898348,  5.31627464,  5.69271708,  6.28932095,  4.23260355,\n",
       "        5.1920228 ,  4.61680031, 11.03357029,  5.30872583, 12.93333435,\n",
       "        5.21080637,  4.73452759,  6.13620901,  5.91900349, 10.6132288 ,\n",
       "        5.03115273,  6.10164118,  5.10395432,  4.62180805,  4.07945776,\n",
       "        8.08626938,  5.3112421 ,  5.01204777,  5.75627851,  4.48539162,\n",
       "        4.4340806 ,  5.73376226,  5.28986359,  5.22772455,  5.96379852,\n",
       "        5.98137617,  5.83522844,  9.71825314,  7.63434124,  4.08187914,\n",
       "        4.47710562,  4.66154909, 13.76817036,  5.81706762,  5.03902626,\n",
       "        6.09300518,  8.37288666,  5.27478456,  6.06999063,  6.08149576,\n",
       "        4.63405514,  5.76586676,  5.07592344,  6.10595989,  5.65158463,\n",
       "        5.82988548,  5.82347584,  8.90437031,  5.16575289,  9.80522823,\n",
       "        5.2613368 ,  5.70297194,  5.91681147,  7.89997578,  4.19288063,\n",
       "       10.88591766,  5.65173817,  5.4829278 ,  4.80962801,  4.68869734,\n",
       "        6.82883835,  5.70092058,  6.34104919,  6.0951643 ,  6.76457548,\n",
       "        5.63950443,  5.05166054,  7.54718494,  5.25594902,  6.10811949,\n",
       "        5.0871315 ,  6.63035011,  5.39928198,  7.11111116,  5.39084625,\n",
       "        6.854918  ,  5.34271479,  5.21785402,  5.95735455,  9.3932457 ,\n",
       "        6.06711531,  4.62681723,  5.05352592,  6.02731419,  4.62013912,\n",
       "        3.88730145,  4.63934517,  5.30621004,  5.60501575,  5.53114891,\n",
       "        6.34439945,  6.07286644,  5.2296052 ,  5.36656332,  4.48456287,\n",
       "        4.52937031,  5.783988  ,  5.97239304,  5.33893585,  7.40693283,\n",
       "        4.87869358,  5.36918306,  6.1191864 ,  5.43624067,  5.42627382,\n",
       "        4.52189445, 11.09880161,  5.18263721,  9.7943306 , 10.88277912,\n",
       "        5.99066544,  5.39757252,  6.00795269,  5.31694508])"
      ]
     },
     "execution_count": 16,
     "metadata": {},
     "output_type": "execute_result"
    }
   ],
   "source": [
    "#printing unique values\n",
    "players.screen_size.unique()"
   ]
  },
  {
   "cell_type": "code",
   "execution_count": 17,
   "id": "e005e7cb",
   "metadata": {},
   "outputs": [
    {
     "data": {
      "text/plain": [
       "array([ 2914,  2831,  2002,  2973,  3758,  1830,  3679,  1778,  2794,\n",
       "        1355,  3859,  2010,  1988,  1849,  1977,  1974,  3609,  3610,\n",
       "        3705,  2011,  1023,  2845,  5579,  3000,  2007,  7469,  1987,\n",
       "        2999,   969,  2839,  3348,  3581,  1929,  3827,   989,  2966,\n",
       "        1876,  3727,  3886,  1981,  5576,  3575,  1944,  2001,  2965,\n",
       "        3347,  3538,  1844,  1819,  5009,  1831,  3646,  2819,  1730,\n",
       "        1708,  3579,  1850,  1897,  3786,  2013,  2788,  1839,  3766,\n",
       "        7425,  1725,  1975,  2821,  2951,  3832,  1980,  1427,  3844,\n",
       "        3574,   975,  7477,  1455,  2683,  3778,  2800,  2998,  2960,\n",
       "        2833,  2899,  3589,  1868,  3643,  3770,  7717,  5509,  5711,\n",
       "        2670,  7592,  1704,  3537,  5737,  1989,  2811,  5608,  2924,\n",
       "        3585,  3648,  5466,  1791,  7623,  1842,  5666,  5474,  7612,\n",
       "        2008,  1794,  1428,  3662,   971,   983,  2827,  1836,  3741,\n",
       "       10546,  2880,  2847,  2840,  2783, 11446,  1864,  5214,  1910,\n",
       "        7468,  2786,  3843,  3904,  3717,  3688,  2666,  1947,  3593,\n",
       "        3645, 10544,  2832,  5395,  2748,  7598,   902,  1815,  1928,\n",
       "        1380,  5559,  2667,  3722,  1848,  1846,  1461,  2725,  5639,\n",
       "        3777,  2778,  7466,  1860,  3936,  2709,  1827,  5689,  1890,\n",
       "        1835,  1323,  2797,  7590,  3680,  1859,  5699,  7715,  3721,\n",
       "        1810,  3805,  1773,  5564,  3736,  2878,  2809,  5339,  2851,\n",
       "        2898,  7447,  2684,   996,  1935,  2805,  1837,  1811,  1358,\n",
       "        1828,  7445,  3611,  1843,  5778,  5418,  1392,  3791,  3975,\n",
       "        3752,  1971,  3664,  3552,  3794,  1000,  2755,  3690,  1990,\n",
       "         972, 11562,  3712,  3704,  5705,  2724,  5514,  3759,  3590,\n",
       "         973,  2824,  1883,  2716,  7408,  5504,  3885,  5634,  3783,\n",
       "        1903,  1863,  3718,  1345,  1821,  3358,  7681,  3751,  3534,\n",
       "        3765,   980,  5616,  7636,  5482,  3543,  5647,  3806,  5656,\n",
       "        2682,  7637,  3729,  1878,  2812,  2705,  3417,  3715,   897,\n",
       "        1880,   887,  1391,  7869,  2704,  5375,  1856,   894, 10883,\n",
       "        1913,  1867,  2789,  3637,  1705,  2879,  3627,  5450,  2863,\n",
       "        1758,  1384,  3573,  2014,  3641,  5620,  7413,  2813,  5583,\n",
       "        2815,  1799,  1812,  2907,  2865,  1973,  3997,  1785,  1408,\n",
       "        1832,  1881,  1862,  1961,   979,  3724,  1738,  5503,  2678,\n",
       "         974, 10547,  3745,  1826,  1829,  3863,  2858,  2775,  3754,\n",
       "        1865,  1877,  7563,  5671,  1907,  1694,  7420,  5880,  3723,\n",
       "        3675,  2909,  5498,   856,  3599,  3972,  5713,  2822,  1969,\n",
       "        3998,   967,  3656,  1734,  7402,  3760,  2740,  2680,  3720,\n",
       "        1875,  2746,  1788,  7669,   970,   863,  1888, 11556,  1896,\n",
       "        3372,  3757,  5597,  3701,  4001,  3802,  1731,  5324,  2763,\n",
       "        7580,  1946,  5710,  1858,  2780,  5706,  3739,  1861,  1871,\n",
       "        3654,  5458,  2972,  7432,  2970,  1962,  2893,   877,  1716,\n",
       "        1328,  3740,  2855,  3359,  2790,  1833,   892,  1909,  1407,\n",
       "        3678,  1891,  3452,  1872,  5738,  2735,  1927,  1735,  5624,\n",
       "        1920,  7838,  3691,  1324,  5590,  1979,  5455, 11294,  7403,\n",
       "        2825,  7448,  3588,  7295,  5512,  1817,  5527,  2992,  3661,\n",
       "        3731,  3772,  2881,  1834,  1959,  7401,  1873,  2901,  3394,\n",
       "        5621,  2870,  2875,  7676, 11424,  1360, 11447,  2850,  3396,\n",
       "        5532,  2820,  3571,  3416,  1968,  1966,  1887,  3728,  1916,\n",
       "        1854,  1820,  3753,  2019,  1870,  5437,  3742,  1429,  3999,\n",
       "        3725,  2866,  2814,  2721,  1805,  1354], dtype=int64)"
      ]
     },
     "execution_count": 17,
     "metadata": {},
     "output_type": "execute_result"
    }
   ],
   "source": [
    "#printing unique values\n",
    "players.system_memory.unique()"
   ]
  },
  {
   "cell_type": "code",
   "execution_count": 18,
   "id": "efc2e002",
   "metadata": {},
   "outputs": [
    {
     "data": {
      "text/plain": [
       "install_datetime          2020-12-08 00:55:49.178000\n",
       "player_id           00b3e42f0aa8d3e4d40f6d2817bd6615\n",
       "platform                                         ios\n",
       "country                                           US\n",
       "screen_size                                 13.76817\n",
       "system_memory                                  11562\n",
       "dtype: object"
      ]
     },
     "execution_count": 18,
     "metadata": {},
     "output_type": "execute_result"
    }
   ],
   "source": [
    "#returns max value for all columns\n",
    "players.max()"
   ]
  },
  {
   "cell_type": "code",
   "execution_count": 19,
   "id": "42fede49",
   "metadata": {},
   "outputs": [
    {
     "data": {
      "text/plain": [
       "install_datetime          2020-11-14 16:23:07.922000\n",
       "player_id           00001bc5552cd394a4b25b2ceb4ae7cd\n",
       "platform                                     android\n",
       "country                                           AU\n",
       "screen_size                                 3.887301\n",
       "system_memory                                    856\n",
       "dtype: object"
      ]
     },
     "execution_count": 19,
     "metadata": {},
     "output_type": "execute_result"
    }
   ],
   "source": [
    "#returns min value for all columns\n",
    "players.min()"
   ]
  },
  {
   "cell_type": "code",
   "execution_count": 20,
   "id": "1dff000f",
   "metadata": {},
   "outputs": [
    {
     "data": {
      "text/plain": [
       "0    009827dc8a88dfab41d9646d9593d23a\n",
       "dtype: object"
      ]
     },
     "execution_count": 20,
     "metadata": {},
     "output_type": "execute_result"
    }
   ],
   "source": [
    "#returns mode player id\n",
    "players['player_id'].mode()"
   ]
  },
  {
   "cell_type": "code",
   "execution_count": 21,
   "id": "43bb60d2",
   "metadata": {},
   "outputs": [
    {
     "data": {
      "text/plain": [
       "0    ios\n",
       "dtype: object"
      ]
     },
     "execution_count": 21,
     "metadata": {},
     "output_type": "execute_result"
    }
   ],
   "source": [
    "#returns mode platform\n",
    "players['platform'].mode()"
   ]
  },
  {
   "cell_type": "code",
   "execution_count": 22,
   "id": "e9d87a2a",
   "metadata": {},
   "outputs": [
    {
     "data": {
      "text/plain": [
       "0    US\n",
       "dtype: object"
      ]
     },
     "execution_count": 22,
     "metadata": {},
     "output_type": "execute_result"
    }
   ],
   "source": [
    "#returns mode country\n",
    "players['country'].mode()"
   ]
  },
  {
   "cell_type": "code",
   "execution_count": 23,
   "id": "f6cf7cf4",
   "metadata": {},
   "outputs": [
    {
     "data": {
      "text/plain": [
       "0    4.69441\n",
       "dtype: float64"
      ]
     },
     "execution_count": 23,
     "metadata": {},
     "output_type": "execute_result"
    }
   ],
   "source": [
    "#returns mode screen_size\n",
    "players['screen_size'].mode()"
   ]
  },
  {
   "cell_type": "code",
   "execution_count": 24,
   "id": "786b47e9",
   "metadata": {},
   "outputs": [
    {
     "data": {
      "text/plain": [
       "0    2845\n",
       "dtype: int64"
      ]
     },
     "execution_count": 24,
     "metadata": {},
     "output_type": "execute_result"
    }
   ],
   "source": [
    "#returns mode system_memory\n",
    "players['system_memory'].mode()"
   ]
  },
  {
   "cell_type": "code",
   "execution_count": 25,
   "id": "c34bc3af",
   "metadata": {},
   "outputs": [
    {
     "data": {
      "text/plain": [
       "ios        3285\n",
       "android    1715\n",
       "Name: platform, dtype: int64"
      ]
     },
     "execution_count": 25,
     "metadata": {},
     "output_type": "execute_result"
    }
   ],
   "source": [
    "#Estimating the data-points for the platform column \n",
    "##shows how many times each item appears in the column\n",
    "players['platform'].value_counts()"
   ]
  },
  {
   "cell_type": "code",
   "execution_count": 26,
   "id": "4a426903",
   "metadata": {},
   "outputs": [
    {
     "data": {
      "text/plain": [
       "US    3852\n",
       "GB     582\n",
       "CA     358\n",
       "AU     208\n",
       "Name: country, dtype: int64"
      ]
     },
     "execution_count": 26,
     "metadata": {},
     "output_type": "execute_result"
    }
   ],
   "source": [
    "#Estimating the data-points for the country column \n",
    "##shows how many times each item appears in the column\n",
    "players['country'].value_counts()"
   ]
  },
  {
   "cell_type": "markdown",
   "id": "126ab246",
   "metadata": {},
   "source": [
    "# Exploratory data analysis of levelprogress dataset"
   ]
  },
  {
   "cell_type": "code",
   "execution_count": 27,
   "id": "bffcc14f",
   "metadata": {},
   "outputs": [
    {
     "data": {
      "text/html": [
       "<div>\n",
       "<style scoped>\n",
       "    .dataframe tbody tr th:only-of-type {\n",
       "        vertical-align: middle;\n",
       "    }\n",
       "\n",
       "    .dataframe tbody tr th {\n",
       "        vertical-align: top;\n",
       "    }\n",
       "\n",
       "    .dataframe thead th {\n",
       "        text-align: right;\n",
       "    }\n",
       "</style>\n",
       "<table border=\"1\" class=\"dataframe\">\n",
       "  <thead>\n",
       "    <tr style=\"text-align: right;\">\n",
       "      <th></th>\n",
       "      <th>event_datetime</th>\n",
       "      <th>player_id</th>\n",
       "      <th>level_number</th>\n",
       "      <th>status</th>\n",
       "      <th>session_id</th>\n",
       "    </tr>\n",
       "  </thead>\n",
       "  <tbody>\n",
       "    <tr>\n",
       "      <th>0</th>\n",
       "      <td>2020-11-28 21:00:24.958000</td>\n",
       "      <td>00020eac3d7e4f058b87eac1a9a85c25</td>\n",
       "      <td>6</td>\n",
       "      <td>complete</td>\n",
       "      <td>6ddf006b807e451eb4706d6d98a049b6</td>\n",
       "    </tr>\n",
       "    <tr>\n",
       "      <th>1</th>\n",
       "      <td>2020-11-27 22:03:03.048000</td>\n",
       "      <td>00020eac3d7e4f058b87eac1a9a85c25</td>\n",
       "      <td>2</td>\n",
       "      <td>start</td>\n",
       "      <td>3ba98db705f2aa0bc406441a61c23b3c</td>\n",
       "    </tr>\n",
       "    <tr>\n",
       "      <th>2</th>\n",
       "      <td>2020-11-26 14:53:09.344000</td>\n",
       "      <td>002188c0bc476f356f4c3b74e5cc66c8</td>\n",
       "      <td>1</td>\n",
       "      <td>start</td>\n",
       "      <td>25cf292a8f1d3da01df8371276502edf</td>\n",
       "    </tr>\n",
       "    <tr>\n",
       "      <th>3</th>\n",
       "      <td>2020-12-03 11:43:26.582000</td>\n",
       "      <td>00576ef3617e6bbbabfa0b1090e4122d</td>\n",
       "      <td>1</td>\n",
       "      <td>start</td>\n",
       "      <td>21fd6a7db53a9220574563ac8a8c8b58</td>\n",
       "    </tr>\n",
       "    <tr>\n",
       "      <th>4</th>\n",
       "      <td>2020-12-04 14:23:07.448000</td>\n",
       "      <td>00576ef3617e6bbbabfa0b1090e4122d</td>\n",
       "      <td>7</td>\n",
       "      <td>start</td>\n",
       "      <td>358b9ab5c1c0f08bc7def310411eb90f</td>\n",
       "    </tr>\n",
       "    <tr>\n",
       "      <th>...</th>\n",
       "      <td>...</td>\n",
       "      <td>...</td>\n",
       "      <td>...</td>\n",
       "      <td>...</td>\n",
       "      <td>...</td>\n",
       "    </tr>\n",
       "    <tr>\n",
       "      <th>55821</th>\n",
       "      <td>2020-11-28 16:12:47.423000</td>\n",
       "      <td>005b8ec4ac873abe715658549b1df622</td>\n",
       "      <td>5</td>\n",
       "      <td>start</td>\n",
       "      <td>56d3d95c6c7ae2f62c5f2851b4ff6971</td>\n",
       "    </tr>\n",
       "    <tr>\n",
       "      <th>55822</th>\n",
       "      <td>2020-11-30 09:25:15.934000</td>\n",
       "      <td>007b14df3661f12d4da9ef6f92fc7f16</td>\n",
       "      <td>6</td>\n",
       "      <td>start</td>\n",
       "      <td>fc9c81723fa03c619144a9f818998395</td>\n",
       "    </tr>\n",
       "    <tr>\n",
       "      <th>55823</th>\n",
       "      <td>2020-11-26 14:23:30.994000</td>\n",
       "      <td>007b14df3661f12d4da9ef6f92fc7f16</td>\n",
       "      <td>0</td>\n",
       "      <td>complete</td>\n",
       "      <td>17fbe3250288639e3284e4b1e00762a3</td>\n",
       "    </tr>\n",
       "    <tr>\n",
       "      <th>55824</th>\n",
       "      <td>2020-11-24 18:51:08.746000</td>\n",
       "      <td>005a65aac934d42388795f30b24e03a0</td>\n",
       "      <td>0</td>\n",
       "      <td>complete</td>\n",
       "      <td>c3eaa21b32089aefff9b13d3feae6f8d</td>\n",
       "    </tr>\n",
       "    <tr>\n",
       "      <th>55825</th>\n",
       "      <td>2020-11-17 18:27:09.992000</td>\n",
       "      <td>007817af60c6e190ca909e2427ff3fc1</td>\n",
       "      <td>4</td>\n",
       "      <td>start</td>\n",
       "      <td>4f62ee33c8c434fc9824e3f8cea27d92</td>\n",
       "    </tr>\n",
       "  </tbody>\n",
       "</table>\n",
       "<p>55826 rows × 5 columns</p>\n",
       "</div>"
      ],
      "text/plain": [
       "                   event_datetime                         player_id  \\\n",
       "0      2020-11-28 21:00:24.958000  00020eac3d7e4f058b87eac1a9a85c25   \n",
       "1      2020-11-27 22:03:03.048000  00020eac3d7e4f058b87eac1a9a85c25   \n",
       "2      2020-11-26 14:53:09.344000  002188c0bc476f356f4c3b74e5cc66c8   \n",
       "3      2020-12-03 11:43:26.582000  00576ef3617e6bbbabfa0b1090e4122d   \n",
       "4      2020-12-04 14:23:07.448000  00576ef3617e6bbbabfa0b1090e4122d   \n",
       "...                           ...                               ...   \n",
       "55821  2020-11-28 16:12:47.423000  005b8ec4ac873abe715658549b1df622   \n",
       "55822  2020-11-30 09:25:15.934000  007b14df3661f12d4da9ef6f92fc7f16   \n",
       "55823  2020-11-26 14:23:30.994000  007b14df3661f12d4da9ef6f92fc7f16   \n",
       "55824  2020-11-24 18:51:08.746000  005a65aac934d42388795f30b24e03a0   \n",
       "55825  2020-11-17 18:27:09.992000  007817af60c6e190ca909e2427ff3fc1   \n",
       "\n",
       "       level_number    status                        session_id  \n",
       "0                 6  complete  6ddf006b807e451eb4706d6d98a049b6  \n",
       "1                 2     start  3ba98db705f2aa0bc406441a61c23b3c  \n",
       "2                 1     start  25cf292a8f1d3da01df8371276502edf  \n",
       "3                 1     start  21fd6a7db53a9220574563ac8a8c8b58  \n",
       "4                 7     start  358b9ab5c1c0f08bc7def310411eb90f  \n",
       "...             ...       ...                               ...  \n",
       "55821             5     start  56d3d95c6c7ae2f62c5f2851b4ff6971  \n",
       "55822             6     start  fc9c81723fa03c619144a9f818998395  \n",
       "55823             0  complete  17fbe3250288639e3284e4b1e00762a3  \n",
       "55824             0  complete  c3eaa21b32089aefff9b13d3feae6f8d  \n",
       "55825             4     start  4f62ee33c8c434fc9824e3f8cea27d92  \n",
       "\n",
       "[55826 rows x 5 columns]"
      ]
     },
     "execution_count": 27,
     "metadata": {},
     "output_type": "execute_result"
    }
   ],
   "source": [
    "#Loading dataset\n",
    "#Read CSV File\n",
    "#import libraries\n",
    "import pandas as pd\n",
    "df=pd.read_csv('level_progress.csv')\n",
    "levelprogress=df\n",
    "levelprogress"
   ]
  },
  {
   "cell_type": "code",
   "execution_count": 28,
   "id": "a761c5ca",
   "metadata": {},
   "outputs": [
    {
     "name": "stdout",
     "output_type": "stream",
     "text": [
      "<class 'pandas.core.frame.DataFrame'>\n",
      "RangeIndex: 55826 entries, 0 to 55825\n",
      "Data columns (total 5 columns):\n",
      " #   Column          Non-Null Count  Dtype \n",
      "---  ------          --------------  ----- \n",
      " 0   event_datetime  55826 non-null  object\n",
      " 1   player_id       55826 non-null  object\n",
      " 2   level_number    55826 non-null  int64 \n",
      " 3   status          55826 non-null  object\n",
      " 4   session_id      55826 non-null  object\n",
      "dtypes: int64(1), object(4)\n",
      "memory usage: 2.1+ MB\n"
     ]
    }
   ],
   "source": [
    "#printing information about the dataset\n",
    "levelprogress.info()"
   ]
  },
  {
   "cell_type": "code",
   "execution_count": 29,
   "id": "5feae794",
   "metadata": {},
   "outputs": [
    {
     "data": {
      "text/html": [
       "<div>\n",
       "<style scoped>\n",
       "    .dataframe tbody tr th:only-of-type {\n",
       "        vertical-align: middle;\n",
       "    }\n",
       "\n",
       "    .dataframe tbody tr th {\n",
       "        vertical-align: top;\n",
       "    }\n",
       "\n",
       "    .dataframe thead th {\n",
       "        text-align: right;\n",
       "    }\n",
       "</style>\n",
       "<table border=\"1\" class=\"dataframe\">\n",
       "  <thead>\n",
       "    <tr style=\"text-align: right;\">\n",
       "      <th></th>\n",
       "      <th>level_number</th>\n",
       "    </tr>\n",
       "  </thead>\n",
       "  <tbody>\n",
       "    <tr>\n",
       "      <th>count</th>\n",
       "      <td>55826.000000</td>\n",
       "    </tr>\n",
       "    <tr>\n",
       "      <th>mean</th>\n",
       "      <td>5.991778</td>\n",
       "    </tr>\n",
       "    <tr>\n",
       "      <th>std</th>\n",
       "      <td>5.988455</td>\n",
       "    </tr>\n",
       "    <tr>\n",
       "      <th>min</th>\n",
       "      <td>0.000000</td>\n",
       "    </tr>\n",
       "    <tr>\n",
       "      <th>25%</th>\n",
       "      <td>2.000000</td>\n",
       "    </tr>\n",
       "    <tr>\n",
       "      <th>50%</th>\n",
       "      <td>4.000000</td>\n",
       "    </tr>\n",
       "    <tr>\n",
       "      <th>75%</th>\n",
       "      <td>8.000000</td>\n",
       "    </tr>\n",
       "    <tr>\n",
       "      <th>max</th>\n",
       "      <td>49.000000</td>\n",
       "    </tr>\n",
       "  </tbody>\n",
       "</table>\n",
       "</div>"
      ],
      "text/plain": [
       "       level_number\n",
       "count  55826.000000\n",
       "mean       5.991778\n",
       "std        5.988455\n",
       "min        0.000000\n",
       "25%        2.000000\n",
       "50%        4.000000\n",
       "75%        8.000000\n",
       "max       49.000000"
      ]
     },
     "execution_count": 29,
     "metadata": {},
     "output_type": "execute_result"
    }
   ],
   "source": [
    "#statistical summary of the dataset\n",
    "levelprogress.describe()"
   ]
  },
  {
   "cell_type": "code",
   "execution_count": 30,
   "id": "2ba1a281",
   "metadata": {},
   "outputs": [
    {
     "data": {
      "text/plain": [
       "['event_datetime', 'player_id', 'status', 'session_id']"
      ]
     },
     "execution_count": 30,
     "metadata": {},
     "output_type": "execute_result"
    }
   ],
   "source": [
    "#Finding columns with Categorical Values\n",
    "levelprogress.select_dtypes(exclude=['int','float']).columns.tolist()"
   ]
  },
  {
   "cell_type": "code",
   "execution_count": 31,
   "id": "a6252317",
   "metadata": {},
   "outputs": [
    {
     "data": {
      "text/plain": [
       "['level_number']"
      ]
     },
     "execution_count": 31,
     "metadata": {},
     "output_type": "execute_result"
    }
   ],
   "source": [
    "#Finding columns with Numerical Values\n",
    "levelprogress.select_dtypes(include=['int','float']).columns.tolist()"
   ]
  },
  {
   "cell_type": "code",
   "execution_count": 32,
   "id": "d44aec52",
   "metadata": {},
   "outputs": [
    {
     "name": "stdout",
     "output_type": "stream",
     "text": [
      "(55826, 5)\n"
     ]
    }
   ],
   "source": [
    "#shape of the dataset\n",
    "print(levelprogress.shape)"
   ]
  },
  {
   "cell_type": "code",
   "execution_count": 33,
   "id": "aff68351",
   "metadata": {},
   "outputs": [
    {
     "data": {
      "text/html": [
       "<div>\n",
       "<style scoped>\n",
       "    .dataframe tbody tr th:only-of-type {\n",
       "        vertical-align: middle;\n",
       "    }\n",
       "\n",
       "    .dataframe tbody tr th {\n",
       "        vertical-align: top;\n",
       "    }\n",
       "\n",
       "    .dataframe thead th {\n",
       "        text-align: right;\n",
       "    }\n",
       "</style>\n",
       "<table border=\"1\" class=\"dataframe\">\n",
       "  <thead>\n",
       "    <tr style=\"text-align: right;\">\n",
       "      <th></th>\n",
       "      <th>event_datetime</th>\n",
       "      <th>player_id</th>\n",
       "      <th>level_number</th>\n",
       "      <th>status</th>\n",
       "      <th>session_id</th>\n",
       "    </tr>\n",
       "  </thead>\n",
       "  <tbody>\n",
       "    <tr>\n",
       "      <th>0</th>\n",
       "      <td>2020-11-28 21:00:24.958000</td>\n",
       "      <td>00020eac3d7e4f058b87eac1a9a85c25</td>\n",
       "      <td>6</td>\n",
       "      <td>complete</td>\n",
       "      <td>6ddf006b807e451eb4706d6d98a049b6</td>\n",
       "    </tr>\n",
       "    <tr>\n",
       "      <th>1</th>\n",
       "      <td>2020-11-27 22:03:03.048000</td>\n",
       "      <td>00020eac3d7e4f058b87eac1a9a85c25</td>\n",
       "      <td>2</td>\n",
       "      <td>start</td>\n",
       "      <td>3ba98db705f2aa0bc406441a61c23b3c</td>\n",
       "    </tr>\n",
       "    <tr>\n",
       "      <th>2</th>\n",
       "      <td>2020-11-26 14:53:09.344000</td>\n",
       "      <td>002188c0bc476f356f4c3b74e5cc66c8</td>\n",
       "      <td>1</td>\n",
       "      <td>start</td>\n",
       "      <td>25cf292a8f1d3da01df8371276502edf</td>\n",
       "    </tr>\n",
       "    <tr>\n",
       "      <th>3</th>\n",
       "      <td>2020-12-03 11:43:26.582000</td>\n",
       "      <td>00576ef3617e6bbbabfa0b1090e4122d</td>\n",
       "      <td>1</td>\n",
       "      <td>start</td>\n",
       "      <td>21fd6a7db53a9220574563ac8a8c8b58</td>\n",
       "    </tr>\n",
       "    <tr>\n",
       "      <th>4</th>\n",
       "      <td>2020-12-04 14:23:07.448000</td>\n",
       "      <td>00576ef3617e6bbbabfa0b1090e4122d</td>\n",
       "      <td>7</td>\n",
       "      <td>start</td>\n",
       "      <td>358b9ab5c1c0f08bc7def310411eb90f</td>\n",
       "    </tr>\n",
       "    <tr>\n",
       "      <th>5</th>\n",
       "      <td>2020-12-02 20:11:40.721000</td>\n",
       "      <td>004b7862e44e970d3f1ed9d53dc5e03e</td>\n",
       "      <td>9</td>\n",
       "      <td>start</td>\n",
       "      <td>23d421f1f25256618be93ad9e6d85f62</td>\n",
       "    </tr>\n",
       "    <tr>\n",
       "      <th>6</th>\n",
       "      <td>2020-11-25 18:41:54.555000</td>\n",
       "      <td>005408c722a113f529a8ae46f97df6a5</td>\n",
       "      <td>0</td>\n",
       "      <td>complete</td>\n",
       "      <td>d89440e94ac880387d6029d3a9868297</td>\n",
       "    </tr>\n",
       "    <tr>\n",
       "      <th>7</th>\n",
       "      <td>2020-11-25 19:33:24.458000</td>\n",
       "      <td>005408c722a113f529a8ae46f97df6a5</td>\n",
       "      <td>5</td>\n",
       "      <td>start</td>\n",
       "      <td>f7ca1989a08f2a2143cc68f64a68cbfa</td>\n",
       "    </tr>\n",
       "    <tr>\n",
       "      <th>8</th>\n",
       "      <td>2020-12-08 15:57:24.864000</td>\n",
       "      <td>0089666ada6b828781c18f9f99818aca</td>\n",
       "      <td>1</td>\n",
       "      <td>start</td>\n",
       "      <td>8726481d5da6de58a6be5fed2513f522</td>\n",
       "    </tr>\n",
       "    <tr>\n",
       "      <th>9</th>\n",
       "      <td>2020-11-26 19:11:28.495000</td>\n",
       "      <td>005b6796340da5b9fe70dd03979bd482</td>\n",
       "      <td>5</td>\n",
       "      <td>start</td>\n",
       "      <td>eba86abcccafab956de25b52dbe1a773</td>\n",
       "    </tr>\n",
       "    <tr>\n",
       "      <th>10</th>\n",
       "      <td>2020-12-04 17:47:50.808000</td>\n",
       "      <td>0086ee1fe22bd5f0def33a0b43be41ff</td>\n",
       "      <td>3</td>\n",
       "      <td>start</td>\n",
       "      <td>72645baadea2db1538173d5ccf2234a0</td>\n",
       "    </tr>\n",
       "    <tr>\n",
       "      <th>11</th>\n",
       "      <td>2020-11-26 20:23:39.722000</td>\n",
       "      <td>00417f6c54ba9e86d0dc090a4e4a0c71</td>\n",
       "      <td>2</td>\n",
       "      <td>start</td>\n",
       "      <td>98ec4340774274879efa0b962fb07ff1</td>\n",
       "    </tr>\n",
       "    <tr>\n",
       "      <th>12</th>\n",
       "      <td>2020-11-20 21:50:20.813000</td>\n",
       "      <td>0011752fa7dfda4ae4d42110a0801f2c</td>\n",
       "      <td>4</td>\n",
       "      <td>complete</td>\n",
       "      <td>c1fe69a2e3af459adf3206f19712ea2b</td>\n",
       "    </tr>\n",
       "    <tr>\n",
       "      <th>13</th>\n",
       "      <td>2020-11-20 16:27:42.708000</td>\n",
       "      <td>0011752fa7dfda4ae4d42110a0801f2c</td>\n",
       "      <td>3</td>\n",
       "      <td>complete</td>\n",
       "      <td>c9f1397a46362c03f418f9267fa095b3</td>\n",
       "    </tr>\n",
       "    <tr>\n",
       "      <th>14</th>\n",
       "      <td>2020-11-15 19:09:58.363000</td>\n",
       "      <td>009822036c705ed930015863fe69aaca</td>\n",
       "      <td>3</td>\n",
       "      <td>complete</td>\n",
       "      <td>0c33b5b5c4d960b4270a2f18b3be8668</td>\n",
       "    </tr>\n",
       "    <tr>\n",
       "      <th>15</th>\n",
       "      <td>2020-11-24 11:05:20.386000</td>\n",
       "      <td>00b1284ccff4fb2b6a1ba5e10ef4de50</td>\n",
       "      <td>0</td>\n",
       "      <td>complete</td>\n",
       "      <td>3b9c356accb4200db502b95c93b2825b</td>\n",
       "    </tr>\n",
       "    <tr>\n",
       "      <th>16</th>\n",
       "      <td>2020-11-29 16:25:25.715000</td>\n",
       "      <td>008ac17afc83efb6a6337448f3e80512</td>\n",
       "      <td>5</td>\n",
       "      <td>complete</td>\n",
       "      <td>fee85aa7a275363d3b4bb3e2a812226d</td>\n",
       "    </tr>\n",
       "    <tr>\n",
       "      <th>17</th>\n",
       "      <td>2020-11-19 07:17:38.315000</td>\n",
       "      <td>005f163b2e32c10c4099acae8812ccef</td>\n",
       "      <td>8</td>\n",
       "      <td>start</td>\n",
       "      <td>1fea2d5eeefb304c146b80d1ac1d10d9</td>\n",
       "    </tr>\n",
       "    <tr>\n",
       "      <th>18</th>\n",
       "      <td>2020-11-18 18:31:41.161000</td>\n",
       "      <td>005f163b2e32c10c4099acae8812ccef</td>\n",
       "      <td>2</td>\n",
       "      <td>start</td>\n",
       "      <td>81882b2252d6427605d246c8f43096e3</td>\n",
       "    </tr>\n",
       "    <tr>\n",
       "      <th>19</th>\n",
       "      <td>2020-11-24 17:21:02.288000</td>\n",
       "      <td>00876172c6545758c48418555e464bae</td>\n",
       "      <td>2</td>\n",
       "      <td>start</td>\n",
       "      <td>86b51e9b3a489de1e94c24975abe5630</td>\n",
       "    </tr>\n",
       "  </tbody>\n",
       "</table>\n",
       "</div>"
      ],
      "text/plain": [
       "                event_datetime                         player_id  \\\n",
       "0   2020-11-28 21:00:24.958000  00020eac3d7e4f058b87eac1a9a85c25   \n",
       "1   2020-11-27 22:03:03.048000  00020eac3d7e4f058b87eac1a9a85c25   \n",
       "2   2020-11-26 14:53:09.344000  002188c0bc476f356f4c3b74e5cc66c8   \n",
       "3   2020-12-03 11:43:26.582000  00576ef3617e6bbbabfa0b1090e4122d   \n",
       "4   2020-12-04 14:23:07.448000  00576ef3617e6bbbabfa0b1090e4122d   \n",
       "5   2020-12-02 20:11:40.721000  004b7862e44e970d3f1ed9d53dc5e03e   \n",
       "6   2020-11-25 18:41:54.555000  005408c722a113f529a8ae46f97df6a5   \n",
       "7   2020-11-25 19:33:24.458000  005408c722a113f529a8ae46f97df6a5   \n",
       "8   2020-12-08 15:57:24.864000  0089666ada6b828781c18f9f99818aca   \n",
       "9   2020-11-26 19:11:28.495000  005b6796340da5b9fe70dd03979bd482   \n",
       "10  2020-12-04 17:47:50.808000  0086ee1fe22bd5f0def33a0b43be41ff   \n",
       "11  2020-11-26 20:23:39.722000  00417f6c54ba9e86d0dc090a4e4a0c71   \n",
       "12  2020-11-20 21:50:20.813000  0011752fa7dfda4ae4d42110a0801f2c   \n",
       "13  2020-11-20 16:27:42.708000  0011752fa7dfda4ae4d42110a0801f2c   \n",
       "14  2020-11-15 19:09:58.363000  009822036c705ed930015863fe69aaca   \n",
       "15  2020-11-24 11:05:20.386000  00b1284ccff4fb2b6a1ba5e10ef4de50   \n",
       "16  2020-11-29 16:25:25.715000  008ac17afc83efb6a6337448f3e80512   \n",
       "17  2020-11-19 07:17:38.315000  005f163b2e32c10c4099acae8812ccef   \n",
       "18  2020-11-18 18:31:41.161000  005f163b2e32c10c4099acae8812ccef   \n",
       "19  2020-11-24 17:21:02.288000  00876172c6545758c48418555e464bae   \n",
       "\n",
       "    level_number    status                        session_id  \n",
       "0              6  complete  6ddf006b807e451eb4706d6d98a049b6  \n",
       "1              2     start  3ba98db705f2aa0bc406441a61c23b3c  \n",
       "2              1     start  25cf292a8f1d3da01df8371276502edf  \n",
       "3              1     start  21fd6a7db53a9220574563ac8a8c8b58  \n",
       "4              7     start  358b9ab5c1c0f08bc7def310411eb90f  \n",
       "5              9     start  23d421f1f25256618be93ad9e6d85f62  \n",
       "6              0  complete  d89440e94ac880387d6029d3a9868297  \n",
       "7              5     start  f7ca1989a08f2a2143cc68f64a68cbfa  \n",
       "8              1     start  8726481d5da6de58a6be5fed2513f522  \n",
       "9              5     start  eba86abcccafab956de25b52dbe1a773  \n",
       "10             3     start  72645baadea2db1538173d5ccf2234a0  \n",
       "11             2     start  98ec4340774274879efa0b962fb07ff1  \n",
       "12             4  complete  c1fe69a2e3af459adf3206f19712ea2b  \n",
       "13             3  complete  c9f1397a46362c03f418f9267fa095b3  \n",
       "14             3  complete  0c33b5b5c4d960b4270a2f18b3be8668  \n",
       "15             0  complete  3b9c356accb4200db502b95c93b2825b  \n",
       "16             5  complete  fee85aa7a275363d3b4bb3e2a812226d  \n",
       "17             8     start  1fea2d5eeefb304c146b80d1ac1d10d9  \n",
       "18             2     start  81882b2252d6427605d246c8f43096e3  \n",
       "19             2     start  86b51e9b3a489de1e94c24975abe5630  "
      ]
     },
     "execution_count": 33,
     "metadata": {},
     "output_type": "execute_result"
    }
   ],
   "source": [
    "#display first 20 rows\n",
    "levelprogress.head(20)"
   ]
  },
  {
   "cell_type": "code",
   "execution_count": 34,
   "id": "b86fa660",
   "metadata": {},
   "outputs": [
    {
     "name": "stdout",
     "output_type": "stream",
     "text": [
      "event_datetime    object\n",
      "player_id         object\n",
      "level_number       int64\n",
      "status            object\n",
      "session_id        object\n",
      "dtype: object\n"
     ]
    }
   ],
   "source": [
    "#data types\n",
    "print(levelprogress.dtypes)"
   ]
  },
  {
   "cell_type": "code",
   "execution_count": 35,
   "id": "25a515b2",
   "metadata": {},
   "outputs": [
    {
     "data": {
      "text/plain": [
       "event_datetime    0\n",
       "player_id         0\n",
       "level_number      0\n",
       "status            0\n",
       "session_id        0\n",
       "dtype: int64"
      ]
     },
     "execution_count": 35,
     "metadata": {},
     "output_type": "execute_result"
    }
   ],
   "source": [
    "#missing value analysis\n",
    "#The following isnull function will figure out if there are any missing values in the dataframe, and will then sum up the total for each column.\n",
    "levelprogress.isnull().sum()"
   ]
  },
  {
   "cell_type": "code",
   "execution_count": 36,
   "id": "d2c657eb",
   "metadata": {},
   "outputs": [
    {
     "data": {
      "text/plain": [
       "Index(['event_datetime', 'player_id', 'level_number', 'status', 'session_id'], dtype='object')"
      ]
     },
     "execution_count": 36,
     "metadata": {},
     "output_type": "execute_result"
    }
   ],
   "source": [
    "#Features Exploration\n",
    "#showing all columns names\n",
    "levelprogress.columns"
   ]
  },
  {
   "cell_type": "code",
   "execution_count": 37,
   "id": "9562551c",
   "metadata": {},
   "outputs": [
    {
     "name": "stdout",
     "output_type": "stream",
     "text": [
      "['event_datetime', 'player_id', 'level_number', 'status', 'session_id']\n"
     ]
    }
   ],
   "source": [
    "#Convert column names to a list\n",
    "l=list(levelprogress.columns)\n",
    "print(l)"
   ]
  },
  {
   "cell_type": "code",
   "execution_count": 38,
   "id": "8fed4c72",
   "metadata": {},
   "outputs": [
    {
     "data": {
      "text/plain": [
       "array(['2020-11-28 21:00:24.958000', '2020-11-27 22:03:03.048000',\n",
       "       '2020-11-26 14:53:09.344000', ..., '2020-11-26 14:23:30.994000',\n",
       "       '2020-11-24 18:51:08.746000', '2020-11-17 18:27:09.992000'],\n",
       "      dtype=object)"
      ]
     },
     "execution_count": 38,
     "metadata": {},
     "output_type": "execute_result"
    }
   ],
   "source": [
    "#printing unique values\n",
    "levelprogress.event_datetime.unique()"
   ]
  },
  {
   "cell_type": "code",
   "execution_count": 39,
   "id": "6336a868",
   "metadata": {},
   "outputs": [
    {
     "data": {
      "text/plain": [
       "array(['00020eac3d7e4f058b87eac1a9a85c25',\n",
       "       '002188c0bc476f356f4c3b74e5cc66c8',\n",
       "       '00576ef3617e6bbbabfa0b1090e4122d', ...,\n",
       "       '00174511af1f714acaaf9d334e6f5fcb',\n",
       "       '0096251442727f9a32e8fc3630df8f32',\n",
       "       '00990cb7f25a81425f99f360fb38a62d'], dtype=object)"
      ]
     },
     "execution_count": 39,
     "metadata": {},
     "output_type": "execute_result"
    }
   ],
   "source": [
    "#printing unique values\n",
    "levelprogress.player_id.unique()"
   ]
  },
  {
   "cell_type": "code",
   "execution_count": 40,
   "id": "0b4c8d6f",
   "metadata": {},
   "outputs": [
    {
     "data": {
      "text/plain": [
       "array([ 6,  2,  1,  7,  9,  0,  5,  3,  4,  8, 25, 11, 14, 22, 12, 10, 13,\n",
       "       31, 29, 42, 37, 15, 27, 16, 23, 39, 38, 24, 30, 26, 21, 35, 48, 18,\n",
       "       32, 17, 19, 20, 44, 43, 36, 28, 33, 40, 34, 46, 41, 45, 47, 49],\n",
       "      dtype=int64)"
      ]
     },
     "execution_count": 40,
     "metadata": {},
     "output_type": "execute_result"
    }
   ],
   "source": [
    "#printing unique values\n",
    "levelprogress.level_number.unique()"
   ]
  },
  {
   "cell_type": "code",
   "execution_count": 41,
   "id": "78ee3dae",
   "metadata": {},
   "outputs": [
    {
     "data": {
      "text/plain": [
       "array(['complete', 'start', 'fail'], dtype=object)"
      ]
     },
     "execution_count": 41,
     "metadata": {},
     "output_type": "execute_result"
    }
   ],
   "source": [
    "#printing unique values\n",
    "levelprogress.status.unique()"
   ]
  },
  {
   "cell_type": "code",
   "execution_count": 42,
   "id": "30f0e923",
   "metadata": {},
   "outputs": [
    {
     "data": {
      "text/plain": [
       "array(['6ddf006b807e451eb4706d6d98a049b6',\n",
       "       '3ba98db705f2aa0bc406441a61c23b3c',\n",
       "       '25cf292a8f1d3da01df8371276502edf', ...,\n",
       "       'f80f310e6bbb0e12eb7b51d88cd0e89f',\n",
       "       '8648f9489057c8c30b81c0032061254c',\n",
       "       'f6bcea6d7edf6b9947cf7616fb59f6f7'], dtype=object)"
      ]
     },
     "execution_count": 42,
     "metadata": {},
     "output_type": "execute_result"
    }
   ],
   "source": [
    "#printing unique values\n",
    "levelprogress.session_id.unique()"
   ]
  },
  {
   "cell_type": "code",
   "execution_count": 43,
   "id": "df6d3489",
   "metadata": {},
   "outputs": [
    {
     "data": {
      "text/plain": [
       "event_datetime          2020-12-16 01:17:22.240000\n",
       "player_id         00b3e42f0aa8d3e4d40f6d2817bd6615\n",
       "level_number                                    49\n",
       "status                                       start\n",
       "session_id        fff568045a2a08080aaea4df7afc18b0\n",
       "dtype: object"
      ]
     },
     "execution_count": 43,
     "metadata": {},
     "output_type": "execute_result"
    }
   ],
   "source": [
    "#returns max value for all columns\n",
    "levelprogress.max()"
   ]
  },
  {
   "cell_type": "code",
   "execution_count": 44,
   "id": "7dcf1998",
   "metadata": {},
   "outputs": [
    {
     "data": {
      "text/plain": [
       "event_datetime          2020-11-06 19:44:32.930000\n",
       "player_id         00001bc5552cd394a4b25b2ceb4ae7cd\n",
       "level_number                                     0\n",
       "status                                    complete\n",
       "session_id        000e7a2c724b6e9dba649f341bcc3736\n",
       "dtype: object"
      ]
     },
     "execution_count": 44,
     "metadata": {},
     "output_type": "execute_result"
    }
   ],
   "source": [
    "#returns min value for all columns\n",
    "levelprogress.min()"
   ]
  },
  {
   "cell_type": "code",
   "execution_count": 45,
   "id": "3dac684c",
   "metadata": {},
   "outputs": [
    {
     "data": {
      "text/plain": [
       "0    006c4c66f9976d96fb0bf9852b214b30\n",
       "dtype: object"
      ]
     },
     "execution_count": 45,
     "metadata": {},
     "output_type": "execute_result"
    }
   ],
   "source": [
    "#returns most common player id\n",
    "levelprogress['player_id'].mode()"
   ]
  },
  {
   "cell_type": "code",
   "execution_count": 46,
   "id": "217c7668",
   "metadata": {},
   "outputs": [
    {
     "data": {
      "text/plain": [
       "0    1\n",
       "dtype: int64"
      ]
     },
     "execution_count": 46,
     "metadata": {},
     "output_type": "execute_result"
    }
   ],
   "source": [
    "#returns most common player id\n",
    "levelprogress['level_number'].mode()"
   ]
  },
  {
   "cell_type": "code",
   "execution_count": 47,
   "id": "704a6df0",
   "metadata": {},
   "outputs": [
    {
     "data": {
      "text/plain": [
       "0    start\n",
       "dtype: object"
      ]
     },
     "execution_count": 47,
     "metadata": {},
     "output_type": "execute_result"
    }
   ],
   "source": [
    "#returns most common status\n",
    "levelprogress['status'].mode()"
   ]
  },
  {
   "cell_type": "code",
   "execution_count": 48,
   "id": "ed8cd4f6",
   "metadata": {},
   "outputs": [
    {
     "data": {
      "text/plain": [
       "0    7c354840caa7e3790cfcd7a4d8e97281\n",
       "dtype: object"
      ]
     },
     "execution_count": 48,
     "metadata": {},
     "output_type": "execute_result"
    }
   ],
   "source": [
    "#returns most common session id\n",
    "levelprogress['session_id'].mode() "
   ]
  },
  {
   "cell_type": "code",
   "execution_count": 49,
   "id": "87cf4e16",
   "metadata": {},
   "outputs": [
    {
     "data": {
      "text/plain": [
       "1     7161\n",
       "3     6974\n",
       "2     6297\n",
       "4     5138\n",
       "5     4482\n",
       "0     4201\n",
       "6     3645\n",
       "7     2728\n",
       "8     2379\n",
       "9     1785\n",
       "10    1496\n",
       "11    1414\n",
       "12    1188\n",
       "13    1039\n",
       "14     883\n",
       "15     652\n",
       "16     598\n",
       "17     557\n",
       "18     433\n",
       "19     401\n",
       "20     331\n",
       "22     285\n",
       "23     259\n",
       "21     250\n",
       "25     174\n",
       "24     156\n",
       "26     156\n",
       "28     129\n",
       "27     128\n",
       "29     115\n",
       "32      82\n",
       "30      68\n",
       "31      57\n",
       "33      45\n",
       "34      21\n",
       "35      20\n",
       "37      20\n",
       "38      15\n",
       "36      10\n",
       "39      10\n",
       "42      10\n",
       "40       8\n",
       "43       6\n",
       "41       6\n",
       "44       4\n",
       "45       3\n",
       "48       2\n",
       "46       2\n",
       "47       2\n",
       "49       1\n",
       "Name: level_number, dtype: int64"
      ]
     },
     "execution_count": 49,
     "metadata": {},
     "output_type": "execute_result"
    }
   ],
   "source": [
    "#Estimating the data-points for the level_number column \n",
    "##shows how many times each item appears in the column\n",
    "levelprogress['level_number'].value_counts()"
   ]
  },
  {
   "cell_type": "code",
   "execution_count": 50,
   "id": "ec4eff50",
   "metadata": {},
   "outputs": [
    {
     "data": {
      "text/plain": [
       "start       31109\n",
       "complete    20571\n",
       "fail         4146\n",
       "Name: status, dtype: int64"
      ]
     },
     "execution_count": 50,
     "metadata": {},
     "output_type": "execute_result"
    }
   ],
   "source": [
    "#Estimating the data-points for the status column \n",
    "##shows how many times each item appears in the column\n",
    "levelprogress['status'].value_counts()"
   ]
  },
  {
   "cell_type": "markdown",
   "id": "dd6b8191",
   "metadata": {},
   "source": [
    "# Joining two dataframes(players and level progress) on player_id column "
   ]
  },
  {
   "cell_type": "code",
   "execution_count": 51,
   "id": "14f761fd",
   "metadata": {},
   "outputs": [],
   "source": [
    "#joining the two dataframe #players and level progress as a single dataframe\n",
    "\n",
    "df1= players\n",
    "df2=levelprogress\n",
    "\n",
    "New_df=pd.merge(df1, df2, on='player_id', how='inner')"
   ]
  },
  {
   "cell_type": "code",
   "execution_count": 52,
   "id": "d1865600",
   "metadata": {},
   "outputs": [
    {
     "data": {
      "text/html": [
       "<div>\n",
       "<style scoped>\n",
       "    .dataframe tbody tr th:only-of-type {\n",
       "        vertical-align: middle;\n",
       "    }\n",
       "\n",
       "    .dataframe tbody tr th {\n",
       "        vertical-align: top;\n",
       "    }\n",
       "\n",
       "    .dataframe thead th {\n",
       "        text-align: right;\n",
       "    }\n",
       "</style>\n",
       "<table border=\"1\" class=\"dataframe\">\n",
       "  <thead>\n",
       "    <tr style=\"text-align: right;\">\n",
       "      <th></th>\n",
       "      <th>install_datetime</th>\n",
       "      <th>player_id</th>\n",
       "      <th>platform</th>\n",
       "      <th>country</th>\n",
       "      <th>screen_size</th>\n",
       "      <th>system_memory</th>\n",
       "      <th>event_datetime</th>\n",
       "      <th>level_number</th>\n",
       "      <th>status</th>\n",
       "      <th>session_id</th>\n",
       "    </tr>\n",
       "  </thead>\n",
       "  <tbody>\n",
       "    <tr>\n",
       "      <th>0</th>\n",
       "      <td>2020-11-27 20:07:26.395000</td>\n",
       "      <td>00001bc5552cd394a4b25b2ceb4ae7cd</td>\n",
       "      <td>ios</td>\n",
       "      <td>US</td>\n",
       "      <td>9.69697</td>\n",
       "      <td>2914</td>\n",
       "      <td>2020-11-27 20:09:59.364000</td>\n",
       "      <td>1</td>\n",
       "      <td>start</td>\n",
       "      <td>3d99b46e8e892eac3b40b673140a8c23</td>\n",
       "    </tr>\n",
       "    <tr>\n",
       "      <th>1</th>\n",
       "      <td>2020-11-27 20:07:26.395000</td>\n",
       "      <td>00001bc5552cd394a4b25b2ceb4ae7cd</td>\n",
       "      <td>ios</td>\n",
       "      <td>US</td>\n",
       "      <td>9.69697</td>\n",
       "      <td>2914</td>\n",
       "      <td>2020-11-27 20:16:13.531000</td>\n",
       "      <td>2</td>\n",
       "      <td>complete</td>\n",
       "      <td>3d99b46e8e892eac3b40b673140a8c23</td>\n",
       "    </tr>\n",
       "    <tr>\n",
       "      <th>2</th>\n",
       "      <td>2020-11-27 20:07:26.395000</td>\n",
       "      <td>00001bc5552cd394a4b25b2ceb4ae7cd</td>\n",
       "      <td>ios</td>\n",
       "      <td>US</td>\n",
       "      <td>9.69697</td>\n",
       "      <td>2914</td>\n",
       "      <td>2020-11-27 20:12:22.874000</td>\n",
       "      <td>2</td>\n",
       "      <td>start</td>\n",
       "      <td>3d99b46e8e892eac3b40b673140a8c23</td>\n",
       "    </tr>\n",
       "    <tr>\n",
       "      <th>3</th>\n",
       "      <td>2020-11-27 20:07:26.395000</td>\n",
       "      <td>00001bc5552cd394a4b25b2ceb4ae7cd</td>\n",
       "      <td>ios</td>\n",
       "      <td>US</td>\n",
       "      <td>9.69697</td>\n",
       "      <td>2914</td>\n",
       "      <td>2020-11-27 20:08:39.885000</td>\n",
       "      <td>0</td>\n",
       "      <td>complete</td>\n",
       "      <td>3d99b46e8e892eac3b40b673140a8c23</td>\n",
       "    </tr>\n",
       "    <tr>\n",
       "      <th>4</th>\n",
       "      <td>2020-11-27 20:07:26.395000</td>\n",
       "      <td>00001bc5552cd394a4b25b2ceb4ae7cd</td>\n",
       "      <td>ios</td>\n",
       "      <td>US</td>\n",
       "      <td>9.69697</td>\n",
       "      <td>2914</td>\n",
       "      <td>2020-11-27 20:11:37.082000</td>\n",
       "      <td>1</td>\n",
       "      <td>complete</td>\n",
       "      <td>3d99b46e8e892eac3b40b673140a8c23</td>\n",
       "    </tr>\n",
       "    <tr>\n",
       "      <th>...</th>\n",
       "      <td>...</td>\n",
       "      <td>...</td>\n",
       "      <td>...</td>\n",
       "      <td>...</td>\n",
       "      <td>...</td>\n",
       "      <td>...</td>\n",
       "      <td>...</td>\n",
       "      <td>...</td>\n",
       "      <td>...</td>\n",
       "      <td>...</td>\n",
       "    </tr>\n",
       "    <tr>\n",
       "      <th>70811</th>\n",
       "      <td>2020-11-21 19:39:44.239000</td>\n",
       "      <td>00b3e42f0aa8d3e4d40f6d2817bd6615</td>\n",
       "      <td>ios</td>\n",
       "      <td>US</td>\n",
       "      <td>4.69441</td>\n",
       "      <td>2965</td>\n",
       "      <td>2020-11-21 19:39:23.709000</td>\n",
       "      <td>0</td>\n",
       "      <td>complete</td>\n",
       "      <td>fd101add5678ab946fa062c68d455011</td>\n",
       "    </tr>\n",
       "    <tr>\n",
       "      <th>70812</th>\n",
       "      <td>2020-11-21 19:39:44.239000</td>\n",
       "      <td>00b3e42f0aa8d3e4d40f6d2817bd6615</td>\n",
       "      <td>ios</td>\n",
       "      <td>US</td>\n",
       "      <td>4.69441</td>\n",
       "      <td>2965</td>\n",
       "      <td>2020-11-21 19:42:37.504000</td>\n",
       "      <td>2</td>\n",
       "      <td>complete</td>\n",
       "      <td>fd101add5678ab946fa062c68d455011</td>\n",
       "    </tr>\n",
       "    <tr>\n",
       "      <th>70813</th>\n",
       "      <td>2020-11-21 19:39:44.239000</td>\n",
       "      <td>00b3e42f0aa8d3e4d40f6d2817bd6615</td>\n",
       "      <td>ios</td>\n",
       "      <td>US</td>\n",
       "      <td>4.69441</td>\n",
       "      <td>2965</td>\n",
       "      <td>2020-11-21 19:41:18.267000</td>\n",
       "      <td>1</td>\n",
       "      <td>complete</td>\n",
       "      <td>fd101add5678ab946fa062c68d455011</td>\n",
       "    </tr>\n",
       "    <tr>\n",
       "      <th>70814</th>\n",
       "      <td>2020-11-21 19:39:44.239000</td>\n",
       "      <td>00b3e42f0aa8d3e4d40f6d2817bd6615</td>\n",
       "      <td>ios</td>\n",
       "      <td>US</td>\n",
       "      <td>4.69441</td>\n",
       "      <td>2965</td>\n",
       "      <td>2020-11-21 19:40:53.943000</td>\n",
       "      <td>1</td>\n",
       "      <td>start</td>\n",
       "      <td>fd101add5678ab946fa062c68d455011</td>\n",
       "    </tr>\n",
       "    <tr>\n",
       "      <th>70815</th>\n",
       "      <td>2020-11-21 19:39:44.239000</td>\n",
       "      <td>00b3e42f0aa8d3e4d40f6d2817bd6615</td>\n",
       "      <td>ios</td>\n",
       "      <td>US</td>\n",
       "      <td>4.69441</td>\n",
       "      <td>2965</td>\n",
       "      <td>2020-11-21 19:42:27.150000</td>\n",
       "      <td>2</td>\n",
       "      <td>start</td>\n",
       "      <td>fd101add5678ab946fa062c68d455011</td>\n",
       "    </tr>\n",
       "  </tbody>\n",
       "</table>\n",
       "<p>70816 rows × 10 columns</p>\n",
       "</div>"
      ],
      "text/plain": [
       "                 install_datetime                         player_id platform  \\\n",
       "0      2020-11-27 20:07:26.395000  00001bc5552cd394a4b25b2ceb4ae7cd      ios   \n",
       "1      2020-11-27 20:07:26.395000  00001bc5552cd394a4b25b2ceb4ae7cd      ios   \n",
       "2      2020-11-27 20:07:26.395000  00001bc5552cd394a4b25b2ceb4ae7cd      ios   \n",
       "3      2020-11-27 20:07:26.395000  00001bc5552cd394a4b25b2ceb4ae7cd      ios   \n",
       "4      2020-11-27 20:07:26.395000  00001bc5552cd394a4b25b2ceb4ae7cd      ios   \n",
       "...                           ...                               ...      ...   \n",
       "70811  2020-11-21 19:39:44.239000  00b3e42f0aa8d3e4d40f6d2817bd6615      ios   \n",
       "70812  2020-11-21 19:39:44.239000  00b3e42f0aa8d3e4d40f6d2817bd6615      ios   \n",
       "70813  2020-11-21 19:39:44.239000  00b3e42f0aa8d3e4d40f6d2817bd6615      ios   \n",
       "70814  2020-11-21 19:39:44.239000  00b3e42f0aa8d3e4d40f6d2817bd6615      ios   \n",
       "70815  2020-11-21 19:39:44.239000  00b3e42f0aa8d3e4d40f6d2817bd6615      ios   \n",
       "\n",
       "      country  screen_size  system_memory              event_datetime  \\\n",
       "0          US      9.69697           2914  2020-11-27 20:09:59.364000   \n",
       "1          US      9.69697           2914  2020-11-27 20:16:13.531000   \n",
       "2          US      9.69697           2914  2020-11-27 20:12:22.874000   \n",
       "3          US      9.69697           2914  2020-11-27 20:08:39.885000   \n",
       "4          US      9.69697           2914  2020-11-27 20:11:37.082000   \n",
       "...       ...          ...            ...                         ...   \n",
       "70811      US      4.69441           2965  2020-11-21 19:39:23.709000   \n",
       "70812      US      4.69441           2965  2020-11-21 19:42:37.504000   \n",
       "70813      US      4.69441           2965  2020-11-21 19:41:18.267000   \n",
       "70814      US      4.69441           2965  2020-11-21 19:40:53.943000   \n",
       "70815      US      4.69441           2965  2020-11-21 19:42:27.150000   \n",
       "\n",
       "       level_number    status                        session_id  \n",
       "0                 1     start  3d99b46e8e892eac3b40b673140a8c23  \n",
       "1                 2  complete  3d99b46e8e892eac3b40b673140a8c23  \n",
       "2                 2     start  3d99b46e8e892eac3b40b673140a8c23  \n",
       "3                 0  complete  3d99b46e8e892eac3b40b673140a8c23  \n",
       "4                 1  complete  3d99b46e8e892eac3b40b673140a8c23  \n",
       "...             ...       ...                               ...  \n",
       "70811             0  complete  fd101add5678ab946fa062c68d455011  \n",
       "70812             2  complete  fd101add5678ab946fa062c68d455011  \n",
       "70813             1  complete  fd101add5678ab946fa062c68d455011  \n",
       "70814             1     start  fd101add5678ab946fa062c68d455011  \n",
       "70815             2     start  fd101add5678ab946fa062c68d455011  \n",
       "\n",
       "[70816 rows x 10 columns]"
      ]
     },
     "execution_count": 52,
     "metadata": {},
     "output_type": "execute_result"
    }
   ],
   "source": [
    "New_df"
   ]
  },
  {
   "cell_type": "code",
   "execution_count": 53,
   "id": "db2ecbe9",
   "metadata": {},
   "outputs": [
    {
     "data": {
      "text/html": [
       "<div>\n",
       "<style scoped>\n",
       "    .dataframe tbody tr th:only-of-type {\n",
       "        vertical-align: middle;\n",
       "    }\n",
       "\n",
       "    .dataframe tbody tr th {\n",
       "        vertical-align: top;\n",
       "    }\n",
       "\n",
       "    .dataframe thead th {\n",
       "        text-align: right;\n",
       "    }\n",
       "</style>\n",
       "<table border=\"1\" class=\"dataframe\">\n",
       "  <thead>\n",
       "    <tr style=\"text-align: right;\">\n",
       "      <th></th>\n",
       "      <th>install_datetime</th>\n",
       "      <th>player_id</th>\n",
       "      <th>platform</th>\n",
       "      <th>country</th>\n",
       "      <th>screen_size</th>\n",
       "      <th>system_memory</th>\n",
       "      <th>event_datetime</th>\n",
       "      <th>level_number</th>\n",
       "      <th>status</th>\n",
       "      <th>session_id</th>\n",
       "    </tr>\n",
       "  </thead>\n",
       "  <tbody>\n",
       "    <tr>\n",
       "      <th>0</th>\n",
       "      <td>2020-11-27 20:07:26.395000</td>\n",
       "      <td>00001bc5552cd394a4b25b2ceb4ae7cd</td>\n",
       "      <td>ios</td>\n",
       "      <td>US</td>\n",
       "      <td>9.696970</td>\n",
       "      <td>2914</td>\n",
       "      <td>2020-11-27 20:09:59.364000</td>\n",
       "      <td>1</td>\n",
       "      <td>start</td>\n",
       "      <td>3d99b46e8e892eac3b40b673140a8c23</td>\n",
       "    </tr>\n",
       "    <tr>\n",
       "      <th>1</th>\n",
       "      <td>2020-11-27 20:07:26.395000</td>\n",
       "      <td>00001bc5552cd394a4b25b2ceb4ae7cd</td>\n",
       "      <td>ios</td>\n",
       "      <td>US</td>\n",
       "      <td>9.696970</td>\n",
       "      <td>2914</td>\n",
       "      <td>2020-11-27 20:16:13.531000</td>\n",
       "      <td>2</td>\n",
       "      <td>complete</td>\n",
       "      <td>3d99b46e8e892eac3b40b673140a8c23</td>\n",
       "    </tr>\n",
       "    <tr>\n",
       "      <th>2</th>\n",
       "      <td>2020-11-27 20:07:26.395000</td>\n",
       "      <td>00001bc5552cd394a4b25b2ceb4ae7cd</td>\n",
       "      <td>ios</td>\n",
       "      <td>US</td>\n",
       "      <td>9.696970</td>\n",
       "      <td>2914</td>\n",
       "      <td>2020-11-27 20:12:22.874000</td>\n",
       "      <td>2</td>\n",
       "      <td>start</td>\n",
       "      <td>3d99b46e8e892eac3b40b673140a8c23</td>\n",
       "    </tr>\n",
       "    <tr>\n",
       "      <th>3</th>\n",
       "      <td>2020-11-27 20:07:26.395000</td>\n",
       "      <td>00001bc5552cd394a4b25b2ceb4ae7cd</td>\n",
       "      <td>ios</td>\n",
       "      <td>US</td>\n",
       "      <td>9.696970</td>\n",
       "      <td>2914</td>\n",
       "      <td>2020-11-27 20:08:39.885000</td>\n",
       "      <td>0</td>\n",
       "      <td>complete</td>\n",
       "      <td>3d99b46e8e892eac3b40b673140a8c23</td>\n",
       "    </tr>\n",
       "    <tr>\n",
       "      <th>4</th>\n",
       "      <td>2020-11-27 20:07:26.395000</td>\n",
       "      <td>00001bc5552cd394a4b25b2ceb4ae7cd</td>\n",
       "      <td>ios</td>\n",
       "      <td>US</td>\n",
       "      <td>9.696970</td>\n",
       "      <td>2914</td>\n",
       "      <td>2020-11-27 20:11:37.082000</td>\n",
       "      <td>1</td>\n",
       "      <td>complete</td>\n",
       "      <td>3d99b46e8e892eac3b40b673140a8c23</td>\n",
       "    </tr>\n",
       "    <tr>\n",
       "      <th>5</th>\n",
       "      <td>2020-11-18 17:48:03.901000</td>\n",
       "      <td>000026e096ee1c36cb88234a4dcbb42e</td>\n",
       "      <td>ios</td>\n",
       "      <td>US</td>\n",
       "      <td>6.055348</td>\n",
       "      <td>2831</td>\n",
       "      <td>2020-11-20 17:01:11.741000</td>\n",
       "      <td>8</td>\n",
       "      <td>complete</td>\n",
       "      <td>feabeba4f7461717f93a85e7e0b4c0db</td>\n",
       "    </tr>\n",
       "    <tr>\n",
       "      <th>6</th>\n",
       "      <td>2020-11-18 17:48:03.901000</td>\n",
       "      <td>000026e096ee1c36cb88234a4dcbb42e</td>\n",
       "      <td>ios</td>\n",
       "      <td>US</td>\n",
       "      <td>6.055348</td>\n",
       "      <td>2831</td>\n",
       "      <td>2020-11-24 12:05:57.950000</td>\n",
       "      <td>13</td>\n",
       "      <td>start</td>\n",
       "      <td>c58e517f90467f9edcf159ffd9648027</td>\n",
       "    </tr>\n",
       "    <tr>\n",
       "      <th>7</th>\n",
       "      <td>2020-11-18 17:48:03.901000</td>\n",
       "      <td>000026e096ee1c36cb88234a4dcbb42e</td>\n",
       "      <td>ios</td>\n",
       "      <td>US</td>\n",
       "      <td>6.055348</td>\n",
       "      <td>2831</td>\n",
       "      <td>2020-11-20 17:04:10.767000</td>\n",
       "      <td>9</td>\n",
       "      <td>complete</td>\n",
       "      <td>feabeba4f7461717f93a85e7e0b4c0db</td>\n",
       "    </tr>\n",
       "    <tr>\n",
       "      <th>8</th>\n",
       "      <td>2020-11-18 17:48:03.901000</td>\n",
       "      <td>000026e096ee1c36cb88234a4dcbb42e</td>\n",
       "      <td>ios</td>\n",
       "      <td>US</td>\n",
       "      <td>6.055348</td>\n",
       "      <td>2831</td>\n",
       "      <td>2020-11-19 19:38:12.588000</td>\n",
       "      <td>6</td>\n",
       "      <td>start</td>\n",
       "      <td>4338882ae3017584b86481e78c22967e</td>\n",
       "    </tr>\n",
       "    <tr>\n",
       "      <th>9</th>\n",
       "      <td>2020-11-18 17:48:03.901000</td>\n",
       "      <td>000026e096ee1c36cb88234a4dcbb42e</td>\n",
       "      <td>ios</td>\n",
       "      <td>US</td>\n",
       "      <td>6.055348</td>\n",
       "      <td>2831</td>\n",
       "      <td>2020-11-20 16:58:19.115000</td>\n",
       "      <td>8</td>\n",
       "      <td>fail</td>\n",
       "      <td>feabeba4f7461717f93a85e7e0b4c0db</td>\n",
       "    </tr>\n",
       "    <tr>\n",
       "      <th>10</th>\n",
       "      <td>2020-11-18 17:48:03.901000</td>\n",
       "      <td>000026e096ee1c36cb88234a4dcbb42e</td>\n",
       "      <td>ios</td>\n",
       "      <td>US</td>\n",
       "      <td>6.055348</td>\n",
       "      <td>2831</td>\n",
       "      <td>2020-11-20 17:02:47.173000</td>\n",
       "      <td>9</td>\n",
       "      <td>start</td>\n",
       "      <td>feabeba4f7461717f93a85e7e0b4c0db</td>\n",
       "    </tr>\n",
       "    <tr>\n",
       "      <th>11</th>\n",
       "      <td>2020-11-18 17:48:03.901000</td>\n",
       "      <td>000026e096ee1c36cb88234a4dcbb42e</td>\n",
       "      <td>ios</td>\n",
       "      <td>US</td>\n",
       "      <td>6.055348</td>\n",
       "      <td>2831</td>\n",
       "      <td>2020-11-23 17:29:32.098000</td>\n",
       "      <td>12</td>\n",
       "      <td>complete</td>\n",
       "      <td>9024c03346605801edd0e01f4a61551e</td>\n",
       "    </tr>\n",
       "    <tr>\n",
       "      <th>12</th>\n",
       "      <td>2020-11-18 17:48:03.901000</td>\n",
       "      <td>000026e096ee1c36cb88234a4dcbb42e</td>\n",
       "      <td>ios</td>\n",
       "      <td>US</td>\n",
       "      <td>6.055348</td>\n",
       "      <td>2831</td>\n",
       "      <td>2020-11-23 17:26:44.010000</td>\n",
       "      <td>11</td>\n",
       "      <td>complete</td>\n",
       "      <td>9024c03346605801edd0e01f4a61551e</td>\n",
       "    </tr>\n",
       "    <tr>\n",
       "      <th>13</th>\n",
       "      <td>2020-11-18 17:48:03.901000</td>\n",
       "      <td>000026e096ee1c36cb88234a4dcbb42e</td>\n",
       "      <td>ios</td>\n",
       "      <td>US</td>\n",
       "      <td>6.055348</td>\n",
       "      <td>2831</td>\n",
       "      <td>2020-11-23 16:28:07.005000</td>\n",
       "      <td>10</td>\n",
       "      <td>start</td>\n",
       "      <td>54b9a9c0ce25fde80e887a79d3d156f0</td>\n",
       "    </tr>\n",
       "    <tr>\n",
       "      <th>14</th>\n",
       "      <td>2020-11-18 17:48:03.901000</td>\n",
       "      <td>000026e096ee1c36cb88234a4dcbb42e</td>\n",
       "      <td>ios</td>\n",
       "      <td>US</td>\n",
       "      <td>6.055348</td>\n",
       "      <td>2831</td>\n",
       "      <td>2020-11-20 12:40:29.975000</td>\n",
       "      <td>6</td>\n",
       "      <td>complete</td>\n",
       "      <td>e69210683bbd4d29d19727d5881fb84d</td>\n",
       "    </tr>\n",
       "    <tr>\n",
       "      <th>15</th>\n",
       "      <td>2020-11-18 17:48:03.901000</td>\n",
       "      <td>000026e096ee1c36cb88234a4dcbb42e</td>\n",
       "      <td>ios</td>\n",
       "      <td>US</td>\n",
       "      <td>6.055348</td>\n",
       "      <td>2831</td>\n",
       "      <td>2020-11-18 18:46:45.139000</td>\n",
       "      <td>6</td>\n",
       "      <td>start</td>\n",
       "      <td>5e2204c8c2b7d3870c01d38203f26a19</td>\n",
       "    </tr>\n",
       "    <tr>\n",
       "      <th>16</th>\n",
       "      <td>2020-11-18 17:48:03.901000</td>\n",
       "      <td>000026e096ee1c36cb88234a4dcbb42e</td>\n",
       "      <td>ios</td>\n",
       "      <td>US</td>\n",
       "      <td>6.055348</td>\n",
       "      <td>2831</td>\n",
       "      <td>2020-11-20 12:35:06.357000</td>\n",
       "      <td>6</td>\n",
       "      <td>start</td>\n",
       "      <td>e69210683bbd4d29d19727d5881fb84d</td>\n",
       "    </tr>\n",
       "    <tr>\n",
       "      <th>17</th>\n",
       "      <td>2020-11-18 17:48:03.901000</td>\n",
       "      <td>000026e096ee1c36cb88234a4dcbb42e</td>\n",
       "      <td>ios</td>\n",
       "      <td>US</td>\n",
       "      <td>6.055348</td>\n",
       "      <td>2831</td>\n",
       "      <td>2020-11-18 21:16:03.166000</td>\n",
       "      <td>6</td>\n",
       "      <td>start</td>\n",
       "      <td>f61f693fde7f7add35f9e095247c8591</td>\n",
       "    </tr>\n",
       "    <tr>\n",
       "      <th>18</th>\n",
       "      <td>2020-11-18 17:48:03.901000</td>\n",
       "      <td>000026e096ee1c36cb88234a4dcbb42e</td>\n",
       "      <td>ios</td>\n",
       "      <td>US</td>\n",
       "      <td>6.055348</td>\n",
       "      <td>2831</td>\n",
       "      <td>2020-11-20 16:54:16.628000</td>\n",
       "      <td>7</td>\n",
       "      <td>start</td>\n",
       "      <td>feabeba4f7461717f93a85e7e0b4c0db</td>\n",
       "    </tr>\n",
       "    <tr>\n",
       "      <th>19</th>\n",
       "      <td>2020-11-18 17:48:03.901000</td>\n",
       "      <td>000026e096ee1c36cb88234a4dcbb42e</td>\n",
       "      <td>ios</td>\n",
       "      <td>US</td>\n",
       "      <td>6.055348</td>\n",
       "      <td>2831</td>\n",
       "      <td>2020-11-20 16:59:44.276000</td>\n",
       "      <td>8</td>\n",
       "      <td>start</td>\n",
       "      <td>feabeba4f7461717f93a85e7e0b4c0db</td>\n",
       "    </tr>\n",
       "  </tbody>\n",
       "</table>\n",
       "</div>"
      ],
      "text/plain": [
       "              install_datetime                         player_id platform  \\\n",
       "0   2020-11-27 20:07:26.395000  00001bc5552cd394a4b25b2ceb4ae7cd      ios   \n",
       "1   2020-11-27 20:07:26.395000  00001bc5552cd394a4b25b2ceb4ae7cd      ios   \n",
       "2   2020-11-27 20:07:26.395000  00001bc5552cd394a4b25b2ceb4ae7cd      ios   \n",
       "3   2020-11-27 20:07:26.395000  00001bc5552cd394a4b25b2ceb4ae7cd      ios   \n",
       "4   2020-11-27 20:07:26.395000  00001bc5552cd394a4b25b2ceb4ae7cd      ios   \n",
       "5   2020-11-18 17:48:03.901000  000026e096ee1c36cb88234a4dcbb42e      ios   \n",
       "6   2020-11-18 17:48:03.901000  000026e096ee1c36cb88234a4dcbb42e      ios   \n",
       "7   2020-11-18 17:48:03.901000  000026e096ee1c36cb88234a4dcbb42e      ios   \n",
       "8   2020-11-18 17:48:03.901000  000026e096ee1c36cb88234a4dcbb42e      ios   \n",
       "9   2020-11-18 17:48:03.901000  000026e096ee1c36cb88234a4dcbb42e      ios   \n",
       "10  2020-11-18 17:48:03.901000  000026e096ee1c36cb88234a4dcbb42e      ios   \n",
       "11  2020-11-18 17:48:03.901000  000026e096ee1c36cb88234a4dcbb42e      ios   \n",
       "12  2020-11-18 17:48:03.901000  000026e096ee1c36cb88234a4dcbb42e      ios   \n",
       "13  2020-11-18 17:48:03.901000  000026e096ee1c36cb88234a4dcbb42e      ios   \n",
       "14  2020-11-18 17:48:03.901000  000026e096ee1c36cb88234a4dcbb42e      ios   \n",
       "15  2020-11-18 17:48:03.901000  000026e096ee1c36cb88234a4dcbb42e      ios   \n",
       "16  2020-11-18 17:48:03.901000  000026e096ee1c36cb88234a4dcbb42e      ios   \n",
       "17  2020-11-18 17:48:03.901000  000026e096ee1c36cb88234a4dcbb42e      ios   \n",
       "18  2020-11-18 17:48:03.901000  000026e096ee1c36cb88234a4dcbb42e      ios   \n",
       "19  2020-11-18 17:48:03.901000  000026e096ee1c36cb88234a4dcbb42e      ios   \n",
       "\n",
       "   country  screen_size  system_memory              event_datetime  \\\n",
       "0       US     9.696970           2914  2020-11-27 20:09:59.364000   \n",
       "1       US     9.696970           2914  2020-11-27 20:16:13.531000   \n",
       "2       US     9.696970           2914  2020-11-27 20:12:22.874000   \n",
       "3       US     9.696970           2914  2020-11-27 20:08:39.885000   \n",
       "4       US     9.696970           2914  2020-11-27 20:11:37.082000   \n",
       "5       US     6.055348           2831  2020-11-20 17:01:11.741000   \n",
       "6       US     6.055348           2831  2020-11-24 12:05:57.950000   \n",
       "7       US     6.055348           2831  2020-11-20 17:04:10.767000   \n",
       "8       US     6.055348           2831  2020-11-19 19:38:12.588000   \n",
       "9       US     6.055348           2831  2020-11-20 16:58:19.115000   \n",
       "10      US     6.055348           2831  2020-11-20 17:02:47.173000   \n",
       "11      US     6.055348           2831  2020-11-23 17:29:32.098000   \n",
       "12      US     6.055348           2831  2020-11-23 17:26:44.010000   \n",
       "13      US     6.055348           2831  2020-11-23 16:28:07.005000   \n",
       "14      US     6.055348           2831  2020-11-20 12:40:29.975000   \n",
       "15      US     6.055348           2831  2020-11-18 18:46:45.139000   \n",
       "16      US     6.055348           2831  2020-11-20 12:35:06.357000   \n",
       "17      US     6.055348           2831  2020-11-18 21:16:03.166000   \n",
       "18      US     6.055348           2831  2020-11-20 16:54:16.628000   \n",
       "19      US     6.055348           2831  2020-11-20 16:59:44.276000   \n",
       "\n",
       "    level_number    status                        session_id  \n",
       "0              1     start  3d99b46e8e892eac3b40b673140a8c23  \n",
       "1              2  complete  3d99b46e8e892eac3b40b673140a8c23  \n",
       "2              2     start  3d99b46e8e892eac3b40b673140a8c23  \n",
       "3              0  complete  3d99b46e8e892eac3b40b673140a8c23  \n",
       "4              1  complete  3d99b46e8e892eac3b40b673140a8c23  \n",
       "5              8  complete  feabeba4f7461717f93a85e7e0b4c0db  \n",
       "6             13     start  c58e517f90467f9edcf159ffd9648027  \n",
       "7              9  complete  feabeba4f7461717f93a85e7e0b4c0db  \n",
       "8              6     start  4338882ae3017584b86481e78c22967e  \n",
       "9              8      fail  feabeba4f7461717f93a85e7e0b4c0db  \n",
       "10             9     start  feabeba4f7461717f93a85e7e0b4c0db  \n",
       "11            12  complete  9024c03346605801edd0e01f4a61551e  \n",
       "12            11  complete  9024c03346605801edd0e01f4a61551e  \n",
       "13            10     start  54b9a9c0ce25fde80e887a79d3d156f0  \n",
       "14             6  complete  e69210683bbd4d29d19727d5881fb84d  \n",
       "15             6     start  5e2204c8c2b7d3870c01d38203f26a19  \n",
       "16             6     start  e69210683bbd4d29d19727d5881fb84d  \n",
       "17             6     start  f61f693fde7f7add35f9e095247c8591  \n",
       "18             7     start  feabeba4f7461717f93a85e7e0b4c0db  \n",
       "19             8     start  feabeba4f7461717f93a85e7e0b4c0db  "
      ]
     },
     "execution_count": 53,
     "metadata": {},
     "output_type": "execute_result"
    }
   ],
   "source": [
    "New_df.head(20)"
   ]
  },
  {
   "cell_type": "code",
   "execution_count": 54,
   "id": "01afbbc6",
   "metadata": {},
   "outputs": [
    {
     "name": "stdout",
     "output_type": "stream",
     "text": [
      "<class 'pandas.core.frame.DataFrame'>\n",
      "Int64Index: 70816 entries, 0 to 70815\n",
      "Data columns (total 10 columns):\n",
      " #   Column            Non-Null Count  Dtype  \n",
      "---  ------            --------------  -----  \n",
      " 0   install_datetime  70816 non-null  object \n",
      " 1   player_id         70816 non-null  object \n",
      " 2   platform          70816 non-null  object \n",
      " 3   country           70816 non-null  object \n",
      " 4   screen_size       70816 non-null  float64\n",
      " 5   system_memory     70816 non-null  int64  \n",
      " 6   event_datetime    70816 non-null  object \n",
      " 7   level_number      70816 non-null  int64  \n",
      " 8   status            70816 non-null  object \n",
      " 9   session_id        70816 non-null  object \n",
      "dtypes: float64(1), int64(2), object(7)\n",
      "memory usage: 5.9+ MB\n"
     ]
    }
   ],
   "source": [
    "#printing information about the new dataframe\n",
    "New_df.info()"
   ]
  },
  {
   "cell_type": "code",
   "execution_count": 55,
   "id": "68758a99",
   "metadata": {},
   "outputs": [
    {
     "data": {
      "text/plain": [
       "install_datetime    0\n",
       "player_id           0\n",
       "platform            0\n",
       "country             0\n",
       "screen_size         0\n",
       "system_memory       0\n",
       "event_datetime      0\n",
       "level_number        0\n",
       "status              0\n",
       "session_id          0\n",
       "dtype: int64"
      ]
     },
     "execution_count": 55,
     "metadata": {},
     "output_type": "execute_result"
    }
   ],
   "source": [
    "#missing value analysis\n",
    "#The following isnull function will figure out if there are any missing values in the dataframe, and will then sum up the total for each column.\n",
    "New_df.isnull().sum()"
   ]
  },
  {
   "cell_type": "code",
   "execution_count": 56,
   "id": "ea84032c",
   "metadata": {},
   "outputs": [
    {
     "name": "stdout",
     "output_type": "stream",
     "text": [
      "install_datetime     object\n",
      "player_id            object\n",
      "platform             object\n",
      "country              object\n",
      "screen_size         float64\n",
      "system_memory         int64\n",
      "event_datetime       object\n",
      "level_number          int64\n",
      "status               object\n",
      "session_id           object\n",
      "dtype: object\n"
     ]
    }
   ],
   "source": [
    "#data types\n",
    "print(New_df.dtypes)"
   ]
  },
  {
   "cell_type": "markdown",
   "id": "8a173529",
   "metadata": {},
   "source": [
    "# Visualization"
   ]
  },
  {
   "cell_type": "code",
   "execution_count": 57,
   "id": "494851d4",
   "metadata": {},
   "outputs": [
    {
     "name": "stderr",
     "output_type": "stream",
     "text": [
      "c:\\Users\\Dayo Tosin Oyeyemi\\AppData\\Local\\Programs\\Python\\Python39\\lib\\site-packages\\seaborn\\_decorators.py:36: FutureWarning: Pass the following variable as a keyword arg: x. From version 0.12, the only valid positional argument will be `data`, and passing other arguments without an explicit keyword will result in an error or misinterpretation.\n",
      "  warnings.warn(\n"
     ]
    },
    {
     "data": {
      "image/png": "[encoded data removed]",
      "text/plain": [
       "<Figure size 1080x504 with 1 Axes>"
      ]
     },
     "metadata": {},
     "output_type": "display_data"
    }
   ],
   "source": [
    "#countplot of status\n",
    "sns.set_style('ticks')\n",
    "plt.figure(figsize = (15, 7))\n",
    "sns.countplot(New_df['status']);\n",
    "plt.show()"
   ]
  },
  {
   "cell_type": "code",
   "execution_count": 58,
   "id": "53760c9f",
   "metadata": {},
   "outputs": [
    {
     "data": {
      "text/plain": [
       "<AxesSubplot:>"
      ]
     },
     "execution_count": 58,
     "metadata": {},
     "output_type": "execute_result"
    },
    {
     "data": {
      "image/png": "[encoded data removed]",
      "text/plain": [
       "<Figure size 1296x1008 with 2 Axes>"
      ]
     },
     "metadata": {},
     "output_type": "display_data"
    }
   ],
   "source": [
    "#correlation heatmap shwoing the relationship between variables\n",
    "plt.figure (figsize= (18,14))\n",
    "sns.heatmap(New_df.corr(),annot=True,cmap='magma',linewidths=1)"
   ]
  },
  {
   "cell_type": "code",
   "execution_count": 59,
   "id": "e23b3af3",
   "metadata": {},
   "outputs": [
    {
     "name": "stderr",
     "output_type": "stream",
     "text": [
      "c:\\Users\\Dayo Tosin Oyeyemi\\AppData\\Local\\Programs\\Python\\Python39\\lib\\site-packages\\seaborn\\_decorators.py:36: FutureWarning: Pass the following variable as a keyword arg: x. From version 0.12, the only valid positional argument will be `data`, and passing other arguments without an explicit keyword will result in an error or misinterpretation.\n",
      "  warnings.warn(\n"
     ]
    },
    {
     "data": {
      "image/png": "[encoded data removed]",
      "text/plain": [
       "<Figure size 720x504 with 1 Axes>"
      ]
     },
     "metadata": {},
     "output_type": "display_data"
    }
   ],
   "source": [
    "#countplot of platform\n",
    "sns.set_style('ticks')\n",
    "plt.figure(figsize = (10, 7))\n",
    "sns.countplot(New_df['platform']);\n",
    "plt.show()"
   ]
  },
  {
   "cell_type": "code",
   "execution_count": 60,
   "id": "d2144f05",
   "metadata": {},
   "outputs": [
    {
     "name": "stderr",
     "output_type": "stream",
     "text": [
      "c:\\Users\\Dayo Tosin Oyeyemi\\AppData\\Local\\Programs\\Python\\Python39\\lib\\site-packages\\seaborn\\_decorators.py:36: FutureWarning: Pass the following variable as a keyword arg: x. From version 0.12, the only valid positional argument will be `data`, and passing other arguments without an explicit keyword will result in an error or misinterpretation.\n",
      "  warnings.warn(\n"
     ]
    },
    {
     "data": {
      "image/png": "[encoded data removed]",
      "text/plain": [
       "<Figure size 720x504 with 1 Axes>"
      ]
     },
     "metadata": {},
     "output_type": "display_data"
    }
   ],
   "source": [
    "#countplot of country\n",
    "sns.set_style('ticks')\n",
    "plt.figure(figsize = (10, 7))\n",
    "sns.countplot(New_df['country']);\n",
    "plt.show()"
   ]
  },
  {
   "cell_type": "code",
   "execution_count": 61,
   "id": "465683f0",
   "metadata": {},
   "outputs": [
    {
     "name": "stderr",
     "output_type": "stream",
     "text": [
      "c:\\Users\\Dayo Tosin Oyeyemi\\AppData\\Local\\Programs\\Python\\Python39\\lib\\site-packages\\seaborn\\_decorators.py:36: FutureWarning: Pass the following variable as a keyword arg: x. From version 0.12, the only valid positional argument will be `data`, and passing other arguments without an explicit keyword will result in an error or misinterpretation.\n",
      "  warnings.warn(\n"
     ]
    },
    {
     "data": {
      "image/png": "[encoded data removed]",
      "text/plain": [
       "<Figure size 1080x504 with 1 Axes>"
      ]
     },
     "metadata": {},
     "output_type": "display_data"
    }
   ],
   "source": [
    "#countplot of level number\n",
    "sns.set_style('ticks')\n",
    "plt.figure(figsize = (15, 7))\n",
    "sns.countplot(New_df['level_number']);\n",
    "plt.show()"
   ]
  },
  {
   "cell_type": "code",
   "execution_count": 62,
   "id": "136e5078",
   "metadata": {},
   "outputs": [
    {
     "data": {
      "text/plain": [
       "<AxesSubplot:xlabel='platform'>"
      ]
     },
     "execution_count": 62,
     "metadata": {},
     "output_type": "execute_result"
    },
    {
     "data": {
      "image/png": "[encoded data removed]",
      "text/plain": [
       "<Figure size 1440x720 with 1 Axes>"
      ]
     },
     "metadata": {},
     "output_type": "display_data"
    }
   ],
   "source": [
    "#Grouped bar chart between platform and country\n",
    "CrosstabResult=pd.crosstab(index=New_df['platform'],columns=New_df['country'])\n",
    "#print(CrosstabResult)\n",
    "CrosstabResult.plot.bar(figsize=(20,10), rot=0)"
   ]
  },
  {
   "cell_type": "code",
   "execution_count": 63,
   "id": "5d545b59",
   "metadata": {},
   "outputs": [
    {
     "data": {
      "text/plain": [
       "<AxesSubplot:xlabel='platform'>"
      ]
     },
     "execution_count": 63,
     "metadata": {},
     "output_type": "execute_result"
    },
    {
     "data": {
      "image/png": "[encoded data removed]",
      "text/plain": [
       "<Figure size 1440x720 with 1 Axes>"
      ]
     },
     "metadata": {},
     "output_type": "display_data"
    }
   ],
   "source": [
    "#Grouped bar chart between platform and status\n",
    "CrosstabResult=pd.crosstab(index=New_df['platform'],columns=New_df['status'])\n",
    "#print(CrosstabResult)\n",
    "CrosstabResult.plot.bar(figsize=(20,10), rot=0)"
   ]
  },
  {
   "cell_type": "code",
   "execution_count": 64,
   "id": "557720ea",
   "metadata": {},
   "outputs": [
    {
     "data": {
      "text/plain": [
       "<AxesSubplot:xlabel='platform'>"
      ]
     },
     "execution_count": 64,
     "metadata": {},
     "output_type": "execute_result"
    },
    {
     "data": {
      "image/png": "[encoded data removed]",
      "text/plain": [
       "<Figure size 1440x720 with 1 Axes>"
      ]
     },
     "metadata": {},
     "output_type": "display_data"
    }
   ],
   "source": [
    "#Grouped bar chart between platform and level number \n",
    "CrosstabResult=pd.crosstab(index=New_df['platform'],columns=New_df['level_number'])\n",
    "#print(CrosstabResult)\n",
    "CrosstabResult.plot.bar(figsize=(20,10), rot=0)"
   ]
  },
  {
   "cell_type": "code",
   "execution_count": 65,
   "id": "cd6af47e",
   "metadata": {},
   "outputs": [
    {
     "data": {
      "text/plain": [
       "<AxesSubplot:xlabel='country'>"
      ]
     },
     "execution_count": 65,
     "metadata": {},
     "output_type": "execute_result"
    },
    {
     "data": {
      "image/png": "[encoded data removed]",
      "text/plain": [
       "<Figure size 1440x720 with 1 Axes>"
      ]
     },
     "metadata": {},
     "output_type": "display_data"
    }
   ],
   "source": [
    "#Grouped bar chart between country and status \n",
    "CrosstabResult=pd.crosstab(index=New_df['country'],columns=New_df['status'])\n",
    "#print(CrosstabResult)\n",
    "CrosstabResult.plot.bar(figsize=(20,10), rot=0)"
   ]
  },
  {
   "cell_type": "code",
   "execution_count": 66,
   "id": "d9907b18",
   "metadata": {},
   "outputs": [
    {
     "data": {
      "text/plain": [
       "<AxesSubplot:xlabel='country'>"
      ]
     },
     "execution_count": 66,
     "metadata": {},
     "output_type": "execute_result"
    },
    {
     "data": {
      "image/png": "[encoded data removed]",
      "text/plain": [
       "<Figure size 1440x720 with 1 Axes>"
      ]
     },
     "metadata": {},
     "output_type": "display_data"
    }
   ],
   "source": [
    "#Grouped bar chart between country and level \n",
    "CrosstabResult=pd.crosstab(index=New_df['country'],columns=New_df['level_number'])\n",
    "#print(CrosstabResult)\n",
    "CrosstabResult.plot.bar(figsize=(20,10), rot=0)"
   ]
  },
  {
   "cell_type": "code",
   "execution_count": 67,
   "id": "ebebea80",
   "metadata": {},
   "outputs": [
    {
     "data": {
      "text/plain": [
       "<AxesSubplot:xlabel='level_number'>"
      ]
     },
     "execution_count": 67,
     "metadata": {},
     "output_type": "execute_result"
    },
    {
     "data": {
      "image/png": "[encoded data removed]",
      "text/plain": [
       "<Figure size 1440x720 with 1 Axes>"
      ]
     },
     "metadata": {},
     "output_type": "display_data"
    }
   ],
   "source": [
    "#Grouped bar chart between level_number and status\n",
    "CrosstabResult=pd.crosstab(index=New_df['level_number'],columns=New_df['status'])\n",
    "#print(CrosstabResult)\n",
    "CrosstabResult.plot.bar(figsize=(20,10), rot=0)"
   ]
  },
  {
   "cell_type": "code",
   "execution_count": 68,
   "id": "a9bee23e",
   "metadata": {},
   "outputs": [
    {
     "data": {
      "text/plain": [
       "start       40625\n",
       "complete    25022\n",
       "fail         5169\n",
       "Name: status, dtype: int64"
      ]
     },
     "execution_count": 68,
     "metadata": {},
     "output_type": "execute_result"
    }
   ],
   "source": [
    "#Estimating the data-points for the status column \n",
    "##shows how many times each item appears in the column\n",
    "New_df['status'].value_counts()"
   ]
  },
  {
   "cell_type": "code",
   "execution_count": 69,
   "id": "5b00208c",
   "metadata": {},
   "outputs": [
    {
     "data": {
      "text/plain": [
       "US    55202\n",
       "GB     7650\n",
       "CA     5305\n",
       "AU     2659\n",
       "Name: country, dtype: int64"
      ]
     },
     "execution_count": 69,
     "metadata": {},
     "output_type": "execute_result"
    }
   ],
   "source": [
    "#Estimating the data-points for the country column \n",
    "##shows how many times each item appears in the column\n",
    "New_df['country'].value_counts()"
   ]
  },
  {
   "cell_type": "code",
   "execution_count": 70,
   "id": "f17dcb38",
   "metadata": {},
   "outputs": [
    {
     "data": {
      "text/plain": [
       "ios        51938\n",
       "android    18878\n",
       "Name: platform, dtype: int64"
      ]
     },
     "execution_count": 70,
     "metadata": {},
     "output_type": "execute_result"
    }
   ],
   "source": [
    "#Estimating the data-points for the platform column \n",
    "##shows how many times each item appears in the column\n",
    "New_df['platform'].value_counts()"
   ]
  },
  {
   "cell_type": "markdown",
   "id": "45a55a3d",
   "metadata": {},
   "source": [
    "# Time Series Analysis\n"
   ]
  },
  {
   "cell_type": "code",
   "execution_count": 71,
   "id": "8a57ad54",
   "metadata": {},
   "outputs": [
    {
     "data": {
      "text/html": [
       "<div>\n",
       "<style scoped>\n",
       "    .dataframe tbody tr th:only-of-type {\n",
       "        vertical-align: middle;\n",
       "    }\n",
       "\n",
       "    .dataframe tbody tr th {\n",
       "        vertical-align: top;\n",
       "    }\n",
       "\n",
       "    .dataframe thead th {\n",
       "        text-align: right;\n",
       "    }\n",
       "</style>\n",
       "<table border=\"1\" class=\"dataframe\">\n",
       "  <thead>\n",
       "    <tr style=\"text-align: right;\">\n",
       "      <th></th>\n",
       "      <th>install_datetime</th>\n",
       "      <th>player_id</th>\n",
       "      <th>platform</th>\n",
       "      <th>country</th>\n",
       "      <th>screen_size</th>\n",
       "      <th>system_memory</th>\n",
       "      <th>event_datetime</th>\n",
       "      <th>level_number</th>\n",
       "      <th>status</th>\n",
       "      <th>session_id</th>\n",
       "    </tr>\n",
       "  </thead>\n",
       "  <tbody>\n",
       "    <tr>\n",
       "      <th>0</th>\n",
       "      <td>2020-11-27 20:07:26.395000</td>\n",
       "      <td>00001bc5552cd394a4b25b2ceb4ae7cd</td>\n",
       "      <td>ios</td>\n",
       "      <td>US</td>\n",
       "      <td>9.69697</td>\n",
       "      <td>2914</td>\n",
       "      <td>2020-11-27 20:09:59.364000</td>\n",
       "      <td>1</td>\n",
       "      <td>start</td>\n",
       "      <td>3d99b46e8e892eac3b40b673140a8c23</td>\n",
       "    </tr>\n",
       "    <tr>\n",
       "      <th>1</th>\n",
       "      <td>2020-11-27 20:07:26.395000</td>\n",
       "      <td>00001bc5552cd394a4b25b2ceb4ae7cd</td>\n",
       "      <td>ios</td>\n",
       "      <td>US</td>\n",
       "      <td>9.69697</td>\n",
       "      <td>2914</td>\n",
       "      <td>2020-11-27 20:16:13.531000</td>\n",
       "      <td>2</td>\n",
       "      <td>complete</td>\n",
       "      <td>3d99b46e8e892eac3b40b673140a8c23</td>\n",
       "    </tr>\n",
       "    <tr>\n",
       "      <th>2</th>\n",
       "      <td>2020-11-27 20:07:26.395000</td>\n",
       "      <td>00001bc5552cd394a4b25b2ceb4ae7cd</td>\n",
       "      <td>ios</td>\n",
       "      <td>US</td>\n",
       "      <td>9.69697</td>\n",
       "      <td>2914</td>\n",
       "      <td>2020-11-27 20:12:22.874000</td>\n",
       "      <td>2</td>\n",
       "      <td>start</td>\n",
       "      <td>3d99b46e8e892eac3b40b673140a8c23</td>\n",
       "    </tr>\n",
       "    <tr>\n",
       "      <th>3</th>\n",
       "      <td>2020-11-27 20:07:26.395000</td>\n",
       "      <td>00001bc5552cd394a4b25b2ceb4ae7cd</td>\n",
       "      <td>ios</td>\n",
       "      <td>US</td>\n",
       "      <td>9.69697</td>\n",
       "      <td>2914</td>\n",
       "      <td>2020-11-27 20:08:39.885000</td>\n",
       "      <td>0</td>\n",
       "      <td>complete</td>\n",
       "      <td>3d99b46e8e892eac3b40b673140a8c23</td>\n",
       "    </tr>\n",
       "    <tr>\n",
       "      <th>4</th>\n",
       "      <td>2020-11-27 20:07:26.395000</td>\n",
       "      <td>00001bc5552cd394a4b25b2ceb4ae7cd</td>\n",
       "      <td>ios</td>\n",
       "      <td>US</td>\n",
       "      <td>9.69697</td>\n",
       "      <td>2914</td>\n",
       "      <td>2020-11-27 20:11:37.082000</td>\n",
       "      <td>1</td>\n",
       "      <td>complete</td>\n",
       "      <td>3d99b46e8e892eac3b40b673140a8c23</td>\n",
       "    </tr>\n",
       "    <tr>\n",
       "      <th>...</th>\n",
       "      <td>...</td>\n",
       "      <td>...</td>\n",
       "      <td>...</td>\n",
       "      <td>...</td>\n",
       "      <td>...</td>\n",
       "      <td>...</td>\n",
       "      <td>...</td>\n",
       "      <td>...</td>\n",
       "      <td>...</td>\n",
       "      <td>...</td>\n",
       "    </tr>\n",
       "    <tr>\n",
       "      <th>70811</th>\n",
       "      <td>2020-11-21 19:39:44.239000</td>\n",
       "      <td>00b3e42f0aa8d3e4d40f6d2817bd6615</td>\n",
       "      <td>ios</td>\n",
       "      <td>US</td>\n",
       "      <td>4.69441</td>\n",
       "      <td>2965</td>\n",
       "      <td>2020-11-21 19:39:23.709000</td>\n",
       "      <td>0</td>\n",
       "      <td>complete</td>\n",
       "      <td>fd101add5678ab946fa062c68d455011</td>\n",
       "    </tr>\n",
       "    <tr>\n",
       "      <th>70812</th>\n",
       "      <td>2020-11-21 19:39:44.239000</td>\n",
       "      <td>00b3e42f0aa8d3e4d40f6d2817bd6615</td>\n",
       "      <td>ios</td>\n",
       "      <td>US</td>\n",
       "      <td>4.69441</td>\n",
       "      <td>2965</td>\n",
       "      <td>2020-11-21 19:42:37.504000</td>\n",
       "      <td>2</td>\n",
       "      <td>complete</td>\n",
       "      <td>fd101add5678ab946fa062c68d455011</td>\n",
       "    </tr>\n",
       "    <tr>\n",
       "      <th>70813</th>\n",
       "      <td>2020-11-21 19:39:44.239000</td>\n",
       "      <td>00b3e42f0aa8d3e4d40f6d2817bd6615</td>\n",
       "      <td>ios</td>\n",
       "      <td>US</td>\n",
       "      <td>4.69441</td>\n",
       "      <td>2965</td>\n",
       "      <td>2020-11-21 19:41:18.267000</td>\n",
       "      <td>1</td>\n",
       "      <td>complete</td>\n",
       "      <td>fd101add5678ab946fa062c68d455011</td>\n",
       "    </tr>\n",
       "    <tr>\n",
       "      <th>70814</th>\n",
       "      <td>2020-11-21 19:39:44.239000</td>\n",
       "      <td>00b3e42f0aa8d3e4d40f6d2817bd6615</td>\n",
       "      <td>ios</td>\n",
       "      <td>US</td>\n",
       "      <td>4.69441</td>\n",
       "      <td>2965</td>\n",
       "      <td>2020-11-21 19:40:53.943000</td>\n",
       "      <td>1</td>\n",
       "      <td>start</td>\n",
       "      <td>fd101add5678ab946fa062c68d455011</td>\n",
       "    </tr>\n",
       "    <tr>\n",
       "      <th>70815</th>\n",
       "      <td>2020-11-21 19:39:44.239000</td>\n",
       "      <td>00b3e42f0aa8d3e4d40f6d2817bd6615</td>\n",
       "      <td>ios</td>\n",
       "      <td>US</td>\n",
       "      <td>4.69441</td>\n",
       "      <td>2965</td>\n",
       "      <td>2020-11-21 19:42:27.150000</td>\n",
       "      <td>2</td>\n",
       "      <td>start</td>\n",
       "      <td>fd101add5678ab946fa062c68d455011</td>\n",
       "    </tr>\n",
       "  </tbody>\n",
       "</table>\n",
       "<p>70816 rows × 10 columns</p>\n",
       "</div>"
      ],
      "text/plain": [
       "                 install_datetime                         player_id platform  \\\n",
       "0      2020-11-27 20:07:26.395000  00001bc5552cd394a4b25b2ceb4ae7cd      ios   \n",
       "1      2020-11-27 20:07:26.395000  00001bc5552cd394a4b25b2ceb4ae7cd      ios   \n",
       "2      2020-11-27 20:07:26.395000  00001bc5552cd394a4b25b2ceb4ae7cd      ios   \n",
       "3      2020-11-27 20:07:26.395000  00001bc5552cd394a4b25b2ceb4ae7cd      ios   \n",
       "4      2020-11-27 20:07:26.395000  00001bc5552cd394a4b25b2ceb4ae7cd      ios   \n",
       "...                           ...                               ...      ...   \n",
       "70811  2020-11-21 19:39:44.239000  00b3e42f0aa8d3e4d40f6d2817bd6615      ios   \n",
       "70812  2020-11-21 19:39:44.239000  00b3e42f0aa8d3e4d40f6d2817bd6615      ios   \n",
       "70813  2020-11-21 19:39:44.239000  00b3e42f0aa8d3e4d40f6d2817bd6615      ios   \n",
       "70814  2020-11-21 19:39:44.239000  00b3e42f0aa8d3e4d40f6d2817bd6615      ios   \n",
       "70815  2020-11-21 19:39:44.239000  00b3e42f0aa8d3e4d40f6d2817bd6615      ios   \n",
       "\n",
       "      country  screen_size  system_memory              event_datetime  \\\n",
       "0          US      9.69697           2914  2020-11-27 20:09:59.364000   \n",
       "1          US      9.69697           2914  2020-11-27 20:16:13.531000   \n",
       "2          US      9.69697           2914  2020-11-27 20:12:22.874000   \n",
       "3          US      9.69697           2914  2020-11-27 20:08:39.885000   \n",
       "4          US      9.69697           2914  2020-11-27 20:11:37.082000   \n",
       "...       ...          ...            ...                         ...   \n",
       "70811      US      4.69441           2965  2020-11-21 19:39:23.709000   \n",
       "70812      US      4.69441           2965  2020-11-21 19:42:37.504000   \n",
       "70813      US      4.69441           2965  2020-11-21 19:41:18.267000   \n",
       "70814      US      4.69441           2965  2020-11-21 19:40:53.943000   \n",
       "70815      US      4.69441           2965  2020-11-21 19:42:27.150000   \n",
       "\n",
       "       level_number    status                        session_id  \n",
       "0                 1     start  3d99b46e8e892eac3b40b673140a8c23  \n",
       "1                 2  complete  3d99b46e8e892eac3b40b673140a8c23  \n",
       "2                 2     start  3d99b46e8e892eac3b40b673140a8c23  \n",
       "3                 0  complete  3d99b46e8e892eac3b40b673140a8c23  \n",
       "4                 1  complete  3d99b46e8e892eac3b40b673140a8c23  \n",
       "...             ...       ...                               ...  \n",
       "70811             0  complete  fd101add5678ab946fa062c68d455011  \n",
       "70812             2  complete  fd101add5678ab946fa062c68d455011  \n",
       "70813             1  complete  fd101add5678ab946fa062c68d455011  \n",
       "70814             1     start  fd101add5678ab946fa062c68d455011  \n",
       "70815             2     start  fd101add5678ab946fa062c68d455011  \n",
       "\n",
       "[70816 rows x 10 columns]"
      ]
     },
     "execution_count": 71,
     "metadata": {},
     "output_type": "execute_result"
    }
   ],
   "source": [
    "New_df"
   ]
  },
  {
   "cell_type": "code",
   "execution_count": 72,
   "id": "aa23e315",
   "metadata": {},
   "outputs": [],
   "source": [
    "#convert install_datetime to time series object \n",
    "from datetime import datetime\n",
    "con=New_df['install_datetime']\n",
    "New_df['install_datetime']=pd.to_datetime(New_df['install_datetime'])"
   ]
  },
  {
   "cell_type": "code",
   "execution_count": 73,
   "id": "a8e166c8",
   "metadata": {},
   "outputs": [],
   "source": [
    "#convert event_datetime to time series object \n",
    "from datetime import datetime\n",
    "con=New_df['event_datetime']\n",
    "New_df['event_datetime']=pd.to_datetime(New_df['event_datetime'])"
   ]
  },
  {
   "cell_type": "code",
   "execution_count": 74,
   "id": "ff366e10",
   "metadata": {},
   "outputs": [
    {
     "data": {
      "text/html": [
       "<div>\n",
       "<style scoped>\n",
       "    .dataframe tbody tr th:only-of-type {\n",
       "        vertical-align: middle;\n",
       "    }\n",
       "\n",
       "    .dataframe tbody tr th {\n",
       "        vertical-align: top;\n",
       "    }\n",
       "\n",
       "    .dataframe thead th {\n",
       "        text-align: right;\n",
       "    }\n",
       "</style>\n",
       "<table border=\"1\" class=\"dataframe\">\n",
       "  <thead>\n",
       "    <tr style=\"text-align: right;\">\n",
       "      <th></th>\n",
       "      <th>install_datetime</th>\n",
       "      <th>player_id</th>\n",
       "      <th>platform</th>\n",
       "      <th>country</th>\n",
       "      <th>screen_size</th>\n",
       "      <th>system_memory</th>\n",
       "      <th>event_datetime</th>\n",
       "      <th>level_number</th>\n",
       "      <th>status</th>\n",
       "      <th>session_id</th>\n",
       "    </tr>\n",
       "  </thead>\n",
       "  <tbody>\n",
       "    <tr>\n",
       "      <th>0</th>\n",
       "      <td>2020-11-27 20:07:26.395</td>\n",
       "      <td>00001bc5552cd394a4b25b2ceb4ae7cd</td>\n",
       "      <td>ios</td>\n",
       "      <td>US</td>\n",
       "      <td>9.69697</td>\n",
       "      <td>2914</td>\n",
       "      <td>2020-11-27 20:09:59.364</td>\n",
       "      <td>1</td>\n",
       "      <td>start</td>\n",
       "      <td>3d99b46e8e892eac3b40b673140a8c23</td>\n",
       "    </tr>\n",
       "    <tr>\n",
       "      <th>1</th>\n",
       "      <td>2020-11-27 20:07:26.395</td>\n",
       "      <td>00001bc5552cd394a4b25b2ceb4ae7cd</td>\n",
       "      <td>ios</td>\n",
       "      <td>US</td>\n",
       "      <td>9.69697</td>\n",
       "      <td>2914</td>\n",
       "      <td>2020-11-27 20:16:13.531</td>\n",
       "      <td>2</td>\n",
       "      <td>complete</td>\n",
       "      <td>3d99b46e8e892eac3b40b673140a8c23</td>\n",
       "    </tr>\n",
       "    <tr>\n",
       "      <th>2</th>\n",
       "      <td>2020-11-27 20:07:26.395</td>\n",
       "      <td>00001bc5552cd394a4b25b2ceb4ae7cd</td>\n",
       "      <td>ios</td>\n",
       "      <td>US</td>\n",
       "      <td>9.69697</td>\n",
       "      <td>2914</td>\n",
       "      <td>2020-11-27 20:12:22.874</td>\n",
       "      <td>2</td>\n",
       "      <td>start</td>\n",
       "      <td>3d99b46e8e892eac3b40b673140a8c23</td>\n",
       "    </tr>\n",
       "    <tr>\n",
       "      <th>3</th>\n",
       "      <td>2020-11-27 20:07:26.395</td>\n",
       "      <td>00001bc5552cd394a4b25b2ceb4ae7cd</td>\n",
       "      <td>ios</td>\n",
       "      <td>US</td>\n",
       "      <td>9.69697</td>\n",
       "      <td>2914</td>\n",
       "      <td>2020-11-27 20:08:39.885</td>\n",
       "      <td>0</td>\n",
       "      <td>complete</td>\n",
       "      <td>3d99b46e8e892eac3b40b673140a8c23</td>\n",
       "    </tr>\n",
       "    <tr>\n",
       "      <th>4</th>\n",
       "      <td>2020-11-27 20:07:26.395</td>\n",
       "      <td>00001bc5552cd394a4b25b2ceb4ae7cd</td>\n",
       "      <td>ios</td>\n",
       "      <td>US</td>\n",
       "      <td>9.69697</td>\n",
       "      <td>2914</td>\n",
       "      <td>2020-11-27 20:11:37.082</td>\n",
       "      <td>1</td>\n",
       "      <td>complete</td>\n",
       "      <td>3d99b46e8e892eac3b40b673140a8c23</td>\n",
       "    </tr>\n",
       "    <tr>\n",
       "      <th>...</th>\n",
       "      <td>...</td>\n",
       "      <td>...</td>\n",
       "      <td>...</td>\n",
       "      <td>...</td>\n",
       "      <td>...</td>\n",
       "      <td>...</td>\n",
       "      <td>...</td>\n",
       "      <td>...</td>\n",
       "      <td>...</td>\n",
       "      <td>...</td>\n",
       "    </tr>\n",
       "    <tr>\n",
       "      <th>70811</th>\n",
       "      <td>2020-11-21 19:39:44.239</td>\n",
       "      <td>00b3e42f0aa8d3e4d40f6d2817bd6615</td>\n",
       "      <td>ios</td>\n",
       "      <td>US</td>\n",
       "      <td>4.69441</td>\n",
       "      <td>2965</td>\n",
       "      <td>2020-11-21 19:39:23.709</td>\n",
       "      <td>0</td>\n",
       "      <td>complete</td>\n",
       "      <td>fd101add5678ab946fa062c68d455011</td>\n",
       "    </tr>\n",
       "    <tr>\n",
       "      <th>70812</th>\n",
       "      <td>2020-11-21 19:39:44.239</td>\n",
       "      <td>00b3e42f0aa8d3e4d40f6d2817bd6615</td>\n",
       "      <td>ios</td>\n",
       "      <td>US</td>\n",
       "      <td>4.69441</td>\n",
       "      <td>2965</td>\n",
       "      <td>2020-11-21 19:42:37.504</td>\n",
       "      <td>2</td>\n",
       "      <td>complete</td>\n",
       "      <td>fd101add5678ab946fa062c68d455011</td>\n",
       "    </tr>\n",
       "    <tr>\n",
       "      <th>70813</th>\n",
       "      <td>2020-11-21 19:39:44.239</td>\n",
       "      <td>00b3e42f0aa8d3e4d40f6d2817bd6615</td>\n",
       "      <td>ios</td>\n",
       "      <td>US</td>\n",
       "      <td>4.69441</td>\n",
       "      <td>2965</td>\n",
       "      <td>2020-11-21 19:41:18.267</td>\n",
       "      <td>1</td>\n",
       "      <td>complete</td>\n",
       "      <td>fd101add5678ab946fa062c68d455011</td>\n",
       "    </tr>\n",
       "    <tr>\n",
       "      <th>70814</th>\n",
       "      <td>2020-11-21 19:39:44.239</td>\n",
       "      <td>00b3e42f0aa8d3e4d40f6d2817bd6615</td>\n",
       "      <td>ios</td>\n",
       "      <td>US</td>\n",
       "      <td>4.69441</td>\n",
       "      <td>2965</td>\n",
       "      <td>2020-11-21 19:40:53.943</td>\n",
       "      <td>1</td>\n",
       "      <td>start</td>\n",
       "      <td>fd101add5678ab946fa062c68d455011</td>\n",
       "    </tr>\n",
       "    <tr>\n",
       "      <th>70815</th>\n",
       "      <td>2020-11-21 19:39:44.239</td>\n",
       "      <td>00b3e42f0aa8d3e4d40f6d2817bd6615</td>\n",
       "      <td>ios</td>\n",
       "      <td>US</td>\n",
       "      <td>4.69441</td>\n",
       "      <td>2965</td>\n",
       "      <td>2020-11-21 19:42:27.150</td>\n",
       "      <td>2</td>\n",
       "      <td>start</td>\n",
       "      <td>fd101add5678ab946fa062c68d455011</td>\n",
       "    </tr>\n",
       "  </tbody>\n",
       "</table>\n",
       "<p>70816 rows × 10 columns</p>\n",
       "</div>"
      ],
      "text/plain": [
       "             install_datetime                         player_id platform  \\\n",
       "0     2020-11-27 20:07:26.395  00001bc5552cd394a4b25b2ceb4ae7cd      ios   \n",
       "1     2020-11-27 20:07:26.395  00001bc5552cd394a4b25b2ceb4ae7cd      ios   \n",
       "2     2020-11-27 20:07:26.395  00001bc5552cd394a4b25b2ceb4ae7cd      ios   \n",
       "3     2020-11-27 20:07:26.395  00001bc5552cd394a4b25b2ceb4ae7cd      ios   \n",
       "4     2020-11-27 20:07:26.395  00001bc5552cd394a4b25b2ceb4ae7cd      ios   \n",
       "...                       ...                               ...      ...   \n",
       "70811 2020-11-21 19:39:44.239  00b3e42f0aa8d3e4d40f6d2817bd6615      ios   \n",
       "70812 2020-11-21 19:39:44.239  00b3e42f0aa8d3e4d40f6d2817bd6615      ios   \n",
       "70813 2020-11-21 19:39:44.239  00b3e42f0aa8d3e4d40f6d2817bd6615      ios   \n",
       "70814 2020-11-21 19:39:44.239  00b3e42f0aa8d3e4d40f6d2817bd6615      ios   \n",
       "70815 2020-11-21 19:39:44.239  00b3e42f0aa8d3e4d40f6d2817bd6615      ios   \n",
       "\n",
       "      country  screen_size  system_memory          event_datetime  \\\n",
       "0          US      9.69697           2914 2020-11-27 20:09:59.364   \n",
       "1          US      9.69697           2914 2020-11-27 20:16:13.531   \n",
       "2          US      9.69697           2914 2020-11-27 20:12:22.874   \n",
       "3          US      9.69697           2914 2020-11-27 20:08:39.885   \n",
       "4          US      9.69697           2914 2020-11-27 20:11:37.082   \n",
       "...       ...          ...            ...                     ...   \n",
       "70811      US      4.69441           2965 2020-11-21 19:39:23.709   \n",
       "70812      US      4.69441           2965 2020-11-21 19:42:37.504   \n",
       "70813      US      4.69441           2965 2020-11-21 19:41:18.267   \n",
       "70814      US      4.69441           2965 2020-11-21 19:40:53.943   \n",
       "70815      US      4.69441           2965 2020-11-21 19:42:27.150   \n",
       "\n",
       "       level_number    status                        session_id  \n",
       "0                 1     start  3d99b46e8e892eac3b40b673140a8c23  \n",
       "1                 2  complete  3d99b46e8e892eac3b40b673140a8c23  \n",
       "2                 2     start  3d99b46e8e892eac3b40b673140a8c23  \n",
       "3                 0  complete  3d99b46e8e892eac3b40b673140a8c23  \n",
       "4                 1  complete  3d99b46e8e892eac3b40b673140a8c23  \n",
       "...             ...       ...                               ...  \n",
       "70811             0  complete  fd101add5678ab946fa062c68d455011  \n",
       "70812             2  complete  fd101add5678ab946fa062c68d455011  \n",
       "70813             1  complete  fd101add5678ab946fa062c68d455011  \n",
       "70814             1     start  fd101add5678ab946fa062c68d455011  \n",
       "70815             2     start  fd101add5678ab946fa062c68d455011  \n",
       "\n",
       "[70816 rows x 10 columns]"
      ]
     },
     "execution_count": 74,
     "metadata": {},
     "output_type": "execute_result"
    }
   ],
   "source": [
    "New_df"
   ]
  },
  {
   "cell_type": "code",
   "execution_count": 75,
   "id": "e5d285ab",
   "metadata": {},
   "outputs": [
    {
     "name": "stdout",
     "output_type": "stream",
     "text": [
      "install_datetime    datetime64[ns]\n",
      "player_id                   object\n",
      "platform                    object\n",
      "country                     object\n",
      "screen_size                float64\n",
      "system_memory                int64\n",
      "event_datetime      datetime64[ns]\n",
      "level_number                 int64\n",
      "status                      object\n",
      "session_id                  object\n",
      "dtype: object\n"
     ]
    }
   ],
   "source": [
    "#data types\n",
    "print(New_df.dtypes)"
   ]
  },
  {
   "cell_type": "code",
   "execution_count": 76,
   "id": "7e016ca5",
   "metadata": {},
   "outputs": [
    {
     "data": {
      "text/plain": [
       "array(['2020-11-27T20:07:26.395000000', '2020-11-18T17:48:03.901000000',\n",
       "       '2020-11-23T17:38:01.931000000', ...,\n",
       "       '2020-11-23T14:57:42.176000000', '2020-11-23T18:30:59.432000000',\n",
       "       '2020-11-21T19:39:44.239000000'], dtype='datetime64[ns]')"
      ]
     },
     "execution_count": 76,
     "metadata": {},
     "output_type": "execute_result"
    }
   ],
   "source": [
    "New_df['install_datetime'].unique()"
   ]
  },
  {
   "cell_type": "code",
   "execution_count": 77,
   "id": "82a6c30a",
   "metadata": {},
   "outputs": [
    {
     "data": {
      "text/plain": [
       "array(['2020-11-27T20:09:59.364000000', '2020-11-27T20:16:13.531000000',\n",
       "       '2020-11-27T20:12:22.874000000', ...,\n",
       "       '2020-11-21T19:41:18.267000000', '2020-11-21T19:40:53.943000000',\n",
       "       '2020-11-21T19:42:27.150000000'], dtype='datetime64[ns]')"
      ]
     },
     "execution_count": 77,
     "metadata": {},
     "output_type": "execute_result"
    }
   ],
   "source": [
    "New_df['event_datetime'].unique()"
   ]
  },
  {
   "cell_type": "code",
   "execution_count": 78,
   "id": "4acee9a2",
   "metadata": {},
   "outputs": [
    {
     "data": {
      "text/plain": [
       "<AxesSubplot:xlabel='event_datetime'>"
      ]
     },
     "execution_count": 78,
     "metadata": {},
     "output_type": "execute_result"
    },
    {
     "data": {
      "image/png": "[encoded data removed]",
      "text/plain": [
       "<Figure size 432x288 with 1 Axes>"
      ]
     },
     "metadata": {},
     "output_type": "display_data"
    }
   ],
   "source": [
    "#use plot() method on the dataframe\n",
    "New_df.plot('event_datetime', 'level_number')"
   ]
  },
  {
   "cell_type": "code",
   "execution_count": 79,
   "id": "2e3420aa",
   "metadata": {},
   "outputs": [
    {
     "data": {
      "text/plain": [
       "<AxesSubplot:xlabel='event_datetime'>"
      ]
     },
     "execution_count": 79,
     "metadata": {},
     "output_type": "execute_result"
    },
    {
     "data": {
      "image/png": "[encoded data removed]",
      "text/plain": [
       "<Figure size 432x288 with 1 Axes>"
      ]
     },
     "metadata": {},
     "output_type": "display_data"
    }
   ],
   "source": [
    "#use plot() method on the dataframe\n",
    "New_df.plot('event_datetime', 'install_datetime')"
   ]
  },
  {
   "cell_type": "code",
   "execution_count": 80,
   "id": "fa018b4b",
   "metadata": {},
   "outputs": [
    {
     "data": {
      "text/plain": [
       "<AxesSubplot:xlabel='event_datetime'>"
      ]
     },
     "execution_count": 80,
     "metadata": {},
     "output_type": "execute_result"
    },
    {
     "data": {
      "image/png": "[encoded data removed]",
      "text/plain": [
       "<Figure size 432x288 with 1 Axes>"
      ]
     },
     "metadata": {},
     "output_type": "display_data"
    }
   ],
   "source": [
    "#use plot() method on the dataframe\n",
    "New_df.plot('event_datetime', 'screen_size')"
   ]
  },
  {
   "cell_type": "code",
   "execution_count": 81,
   "id": "16b6027f",
   "metadata": {},
   "outputs": [
    {
     "data": {
      "text/plain": [
       "<AxesSubplot:xlabel='install_datetime'>"
      ]
     },
     "execution_count": 81,
     "metadata": {},
     "output_type": "execute_result"
    },
    {
     "data": {
      "image/png": "[encoded data removed]",
      "text/plain": [
       "<Figure size 432x288 with 1 Axes>"
      ]
     },
     "metadata": {},
     "output_type": "display_data"
    }
   ],
   "source": [
    "#use plot() method on the dataframe\n",
    "New_df.plot('install_datetime', 'screen_size')"
   ]
  },
  {
   "cell_type": "code",
   "execution_count": 82,
   "id": "579bbf23",
   "metadata": {},
   "outputs": [
    {
     "data": {
      "text/plain": [
       "<AxesSubplot:xlabel='install_datetime'>"
      ]
     },
     "execution_count": 82,
     "metadata": {},
     "output_type": "execute_result"
    },
    {
     "data": {
      "image/png": "[encoded data removed]",
      "text/plain": [
       "<Figure size 432x288 with 1 Axes>"
      ]
     },
     "metadata": {},
     "output_type": "display_data"
    }
   ],
   "source": [
    "#stationarity Time Series plot\n",
    "New_df.plot('install_datetime')"
   ]
  },
  {
   "cell_type": "code",
   "execution_count": 83,
   "id": "64f483e9",
   "metadata": {},
   "outputs": [
    {
     "data": {
      "text/plain": [
       "<AxesSubplot:xlabel='event_datetime'>"
      ]
     },
     "execution_count": 83,
     "metadata": {},
     "output_type": "execute_result"
    },
    {
     "data": {
      "image/png": "[encoded data removed]",
      "text/plain": [
       "<Figure size 432x288 with 1 Axes>"
      ]
     },
     "metadata": {},
     "output_type": "display_data"
    }
   ],
   "source": [
    "#stationarity  Time Series plot\n",
    "New_df.plot('event_datetime')"
   ]
  },
  {
   "cell_type": "code",
   "execution_count": 84,
   "id": "6070c95c",
   "metadata": {},
   "outputs": [
    {
     "data": {
      "text/plain": [
       "<AxesSubplot:>"
      ]
     },
     "execution_count": 84,
     "metadata": {},
     "output_type": "execute_result"
    },
    {
     "data": {
      "image/png": "[encoded data removed]",
      "text/plain": [
       "<Figure size 432x288 with 1 Axes>"
      ]
     },
     "metadata": {},
     "output_type": "display_data"
    }
   ],
   "source": [
    "New_df.plot()"
   ]
  }
 ],
 "metadata": {
  "kernelspec": {
   "display_name": "Python 3.9.7 64-bit",
   "language": "python",
   "name": "python3"
  },
  "language_info": {
   "codemirror_mode": {
    "name": "ipython",
    "version": 3
   },
   "file_extension": ".py",
   "mimetype": "text/x-python",
   "name": "python",
   "nbconvert_exporter": "python",
   "pygments_lexer": "ipython3",
   "version": "3.9.7"
  },
  "vscode": {
   "interpreter": {
    "hash": "1a64f954787cd6c49ae44ffbb2295060a51070908123d77830c4d50e306005fd"
   }
  }
 },
 "nbformat": 4,
 "nbformat_minor": 5
}
